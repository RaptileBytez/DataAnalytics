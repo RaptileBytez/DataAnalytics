{
 "cells": [
  {
   "cell_type": "markdown",
   "metadata": {},
   "source": [
    "# Quantiles and Percentiles\n",
    "\n",
    "Percentiles and quantiles are statistical concepts used to divide a dataset into smaller subsets based on their relative position. They both help to understand the distribution of a dataset and identify the values that are most representative of that distribution.\n",
    "\n",
    "During this project we will introduce these concepts with examples."
   ]
  },
  {
   "cell_type": "markdown",
   "metadata": {},
   "source": [
    "## Definition of Percentiles and Quantiles\n",
    "A percentile is a measure that indicates the percentage of observations that fall below a particular value in a dataset. For example, the 75th percentile (also known as the third quartile) is the value below which 75% of the observations in the dataset fall.\n",
    "\n",
    "Quantiles, on the other hand, are points that divide a dataset into equal portions. The most common quantiles are quartiles (which divide the dataset into four equal parts), deciles (which divide the dataset into ten equal parts), and percentiles (which divide the dataset into one hundred equal parts).\n",
    "\n",
    "Assuming we have a vast collection of data, such as the heights of all adult males in Nevada, we can create a visual representation of this data using a graph. After some slight smoothing, the resulting graph might resemble the following figure:"
   ]
  },
  {
   "cell_type": "code",
   "execution_count": 1,
   "metadata": {},
   "outputs": [
    {
     "data": {
      "image/png": "[encoded data removed]",
      "text/plain": [
       "<Figure size 640x480 with 1 Axes>"
      ]
     },
     "metadata": {},
     "output_type": "display_data"
    }
   ],
   "source": [
    "import numpy as np\n",
    "from scipy.stats import norm\n",
    "import matplotlib.pyplot as plt\n",
    "%matplotlib inline\n",
    "\n",
    "np.random.seed(1)\n",
    "x=np.random.normal(1.55, 0.05,100)\n",
    "fig, ax = plt.subplots()\n",
    "ax.hist(x, label='population')    \n",
    "ax.set_xlabel('x (m)')\n",
    "ax.set_ylabel('Frequency')\n",
    "ax.set_title('Normal Distribution')\n",
    "ax.legend(loc='best', frameon=True)\n",
    "ax.grid(True)\n"
   ]
  },
  {
   "cell_type": "markdown",
   "metadata": {},
   "source": [
    "The term \"quartile\" implies that we aim to split the data into four equal parts. In the given scenario, we intend to divide the area under the curve into four equal areas.\n",
    "\n",
    "The definition of quartiles states that, for any given ordered dataset, the three quartiles \n",
    ", \n",
    ", and \n",
    " divide the dataset into four parts such that approximately 25% of the data is less than \n",
    ", 50% is less than \n",
    ", and 75% is less than \n",
    ".\n",
    "\n",
    "Moreover, the second quartile \n",
    " of any dataset is equivalent to its median. Additionally, we can form two subsets: the lower set, comprising all observations strictly lesser than \n",
    ", and the upper set, comprising all observations strictly greater than \n",
    ".\n",
    "\n",
    "In this context, the first quartile \n",
    " of the dataset is the median of the lower set, while the third quartile \n",
    " is the median of the upper set.\n",
    "\n",
    "Percentiles are similar to quartiles, but they divide a dataset into 100 parts, each containing approximately the same number of data points. Therefore, the first percentile \n",
    " is where approximately 1% of the data is less than \n",
    ", the second percentile \n",
    " is where about 2% of the data is less than \n",
    ", and so on. Percentiles are typically used for large datasets.\n",
    "\n",
    "The definition of a percentile states that if \n",
    " is an observed value in a dataset, then \n",
    " is the Pth percentile of the dataset if P% of the data in the dataset are less than or equal to \n",
    ". The percentile rank of \n",
    " is equal to the number P."
   ]
  },
  {
   "cell_type": "markdown",
   "metadata": {},
   "source": [
    "## Computing Quantiles\n",
    "The code bellow will output the values of the first quartile (Q1), second quartile (Q2 or median), and third quartile (Q3) for the example dataset [1, 2, 3, 4, 5, 6, 7, 8, 9, 10]."
   ]
  },
  {
   "cell_type": "code",
   "execution_count": 5,
   "metadata": {},
   "outputs": [
    {
     "name": "stdout",
     "output_type": "stream",
     "text": [
      "Anzahl der Daten: 10\n",
      "Q1 Index: 2\n",
      "Q2 Index: 4\n",
      "Q3 Index: 6\n",
      "First quartile (Q1): 3\n",
      "Second quartile (Q2/Median): 5\n",
      "Third quartile (Q3): 7\n"
     ]
    }
   ],
   "source": [
    "# Example dataset\n",
    "data = [1, 2, 3, 4, 5, 6, 7, 8, 9, 10]\n",
    "\n",
    "# Sorting the data\n",
    "sorted_data = sorted(data)\n",
    "\n",
    "# Computing quartiles\n",
    "n = len(sorted_data)\n",
    "print(\"Anzahl der Daten:\", n)\n",
    "\n",
    "q1_index = (n-1)//4\n",
    "print(\"Q1 Index:\", q1_index)\n",
    "q2_index = (n-1)//2\n",
    "print(\"Q2 Index:\", q2_index)\n",
    "q3_index = 3*(n-1)//4\n",
    "print(\"Q3 Index:\", q3_index)\n",
    "\n",
    "q1 = sorted_data[q1_index]\n",
    "q2 = sorted_data[q2_index]\n",
    "q3 = sorted_data[q3_index]\n",
    "\n",
    "# Outputting the results\n",
    "print(\"First quartile (Q1):\", q1)\n",
    "print(\"Second quartile (Q2/Median):\", q2)\n",
    "print(\"Third quartile (Q3):\", q3)\n"
   ]
  },
  {
   "cell_type": "markdown",
   "metadata": {},
   "source": [
    "Let's use numpy to compute the quantiles"
   ]
  },
  {
   "cell_type": "code",
   "execution_count": 6,
   "metadata": {},
   "outputs": [
    {
     "name": "stdout",
     "output_type": "stream",
     "text": [
      "First quartile (Q1): 3.25\n",
      "Second quartile (Q2/Median): 5.5\n",
      "Third quartile (Q3): 7.75\n"
     ]
    }
   ],
   "source": [
    "import numpy as np\n",
    "# Computing quartiles\n",
    "q1 = np.quantile(data, 0.25)\n",
    "q2 = np.quantile(data, 0.5)   # same as median\n",
    "q3 = np.quantile(data, 0.75)\n",
    "\n",
    "# Outputting the results\n",
    "print(\"First quartile (Q1):\", q1)\n",
    "print(\"Second quartile (Q2/Median):\", q2)\n",
    "print(\"Third quartile (Q3):\", q3)"
   ]
  },
  {
   "cell_type": "markdown",
   "metadata": {},
   "source": [
    "### Find the quartiles of the data set: \n",
    "\n",
    "data = [1.10,1.21,1.34, 1.47, 1.36, 1.36, 1.34, 1.43, 1.27 ,1.48 ,1.37, 1.43, 1.39]"
   ]
  },
  {
   "cell_type": "code",
   "execution_count": 7,
   "metadata": {},
   "outputs": [
    {
     "name": "stdout",
     "output_type": "stream",
     "text": [
      "First quartile (Q1): 1.34\n",
      "Second quartile (Q2/Median): 1.36\n",
      "Third quartile (Q3): 1.43\n"
     ]
    }
   ],
   "source": [
    "data = [1.10,1.21,1.34, 1.47, 1.36, 1.36, 1.34, 1.43, 1.27 ,1.48 ,1.37, 1.43, 1.39]\n",
    "\n",
    "q1 = np.quantile(data, 0.25)\n",
    "q2 = np.quantile(data, 0.5)\n",
    "q3 = np.quantile(data, 0.75)\n",
    "# Outputting the results\n",
    "print(\"First quartile (Q1):\", q1)\n",
    "print(\"Second quartile (Q2/Median):\", q2)\n",
    "print(\"Third quartile (Q3):\", q3)"
   ]
  },
  {
   "cell_type": "markdown",
   "metadata": {},
   "source": [
    "## Box Plot\n",
    "A box plot, also known as a box-and-whisker plot, is a graphical summary of a dataset based on five key summary statistics: the minimum, the first quartile (Q1), the median (Q2), the third quartile (Q3), and the maximum. It is a way to visualize the distribution of a dataset and to identify any outliers.\n",
    "\n",
    "Box plots are useful for comparing distributions between different groups or for comparing the same variable at different points in time. They provide a visual summary of the dataset that includes information about the spread, the central tendency, and any outliers.\n",
    "\n",
    "Let's see an example:"
   ]
  },
  {
   "cell_type": "code",
   "execution_count": 8,
   "metadata": {},
   "outputs": [
    {
     "data": {
      "text/plain": [
       "<Axes: >"
      ]
     },
     "execution_count": 8,
     "metadata": {},
     "output_type": "execute_result"
    },
    {
     "data": {
      "image/png": "[encoded data removed]",
      "text/plain": [
       "<Figure size 640x480 with 1 Axes>"
      ]
     },
     "metadata": {},
     "output_type": "display_data"
    }
   ],
   "source": [
    "import seaborn as sns\n",
    "\n",
    "data=[1.10,1.21,1.34, 1.47, 1.36, 1.36, 1.34, 1.43, 1.27 ,1.48 ,1.37, 1.43, 1.39]\n",
    "sns.boxplot(data)"
   ]
  },
  {
   "cell_type": "markdown",
   "metadata": {},
   "source": [
    "The lines on the ends of the central box are called “whiskers,” and box plots are sometimes called box-and-whisker plots\n",
    "\n",
    "The horizontal line through the box is Q2\n",
    ".\n",
    "\n",
    "The rectangle, called the box, extends from Q1\n",
    " to Q3\n",
    " along the measurement scale, and thus its height is the interquartile range.\n",
    "\n",
    "While all versions of box plots show Q1\n",
    ", Q2 and Q3 \n",
    ", there are different versions of the whiskers.\n",
    "\n",
    "## Interquartile Range\n",
    "The interquartile range (IQR) is a measure of the spread or dispersion of a dataset, and it is defined as the difference between the third quartile (Q3) and the first quartile (Q1). In other words, it is the range of the middle 50% of the data.\n",
    "\n",
    "The IQR is a robust statistic because it is not influenced by extreme values or outliers in the dataset. It is used to identify the spread of the middle 50% of the data and to identify any potential outliers.\n",
    "\n",
    "To calculate the IQR, one must first compute the values of the first and third quartiles (Q1 and Q3) of the dataset. Then, the IQR can be computed as:\n",
    "\n",
    "IQR = Q3 - Q1"
   ]
  },
  {
   "cell_type": "markdown",
   "metadata": {},
   "source": [
    "## Activities\n",
    "The following five data sets give the test scores (out of 100) for five different classes in a school:\n",
    "\n",
    "Class A: 78, 82, 85, 88, 90, 92, 93, 95, 98\n",
    "\n",
    "Class B: 62, 65, 68, 72, 75, 77, 81, 84, 88, 90\n",
    "\n",
    "Class C: 70, 72, 74, 76, 78, 80, 82, 84, 86, 88\n",
    "\n",
    "Class D: 55, 60, 65, 70, 75, 80, 85, 90, 95, 100\n",
    "\n",
    "Class E: 85, 88, 89, 90, 92, 93, 94, 96, 98, 100\n",
    "\n",
    "a. Calculate the first,second and third quartile for Class B.\n",
    "\n",
    "b. Calculate the interquartile range and determine the position of the outlier thresholds for Class A\n",
    "\n",
    "c. Draw a box-plot for each data set."
   ]
  },
  {
   "cell_type": "markdown",
   "metadata": {},
   "source": [
    "### Class A"
   ]
  },
  {
   "cell_type": "code",
   "execution_count": 10,
   "metadata": {},
   "outputs": [
    {
     "name": "stdout",
     "output_type": "stream",
     "text": [
      "Erstes Quantil: 85.0\n",
      "Zweites Quantil: 90.0\n",
      "Drittes Quantil: 93.0\n",
      "IQR: 8.0\n"
     ]
    },
    {
     "data": {
      "text/plain": [
       "<Axes: >"
      ]
     },
     "execution_count": 10,
     "metadata": {},
     "output_type": "execute_result"
    },
    {
     "data": {
      "image/png": "[encoded data removed]",
      "text/plain": [
       "<Figure size 640x480 with 1 Axes>"
      ]
     },
     "metadata": {},
     "output_type": "display_data"
    }
   ],
   "source": [
    "class_a = [78, 82, 85, 88, 90, 92, 93, 95, 98]\n",
    "\n",
    "q1 = np.quantile(class_a, 0.25)\n",
    "q2 = np.quantile(class_a, 0.5)\n",
    "q3 = np.quantile(class_a, 0.75)\n",
    "\n",
    "#Output:\n",
    "print(\"Erstes Quantil:\", q1)\n",
    "print(\"Zweites Quantil:\", q2)\n",
    "print(\"Drittes Quantil:\", q3)\n",
    "print(f\"IQR: {q3 - q1}\")\n",
    "\n",
    "#Box Plot\n",
    "sns.boxplot(class_a)"
   ]
  },
  {
   "cell_type": "markdown",
   "metadata": {},
   "source": [
    "### Class B"
   ]
  },
  {
   "cell_type": "code",
   "execution_count": 11,
   "metadata": {},
   "outputs": [
    {
     "name": "stdout",
     "output_type": "stream",
     "text": [
      "Erstes Quantil: 69.0\n",
      "Zweites Quantil: 76.0\n",
      "Drittes Quantil: 83.25\n",
      "IQR: 14.25\n"
     ]
    },
    {
     "data": {
      "text/plain": [
       "<Axes: >"
      ]
     },
     "execution_count": 11,
     "metadata": {},
     "output_type": "execute_result"
    },
    {
     "data": {
      "image/png": "[encoded data removed]",
      "text/plain": [
       "<Figure size 640x480 with 1 Axes>"
      ]
     },
     "metadata": {},
     "output_type": "display_data"
    }
   ],
   "source": [
    "class_b = [62, 65, 68, 72, 75, 77, 81, 84, 88, 90]\n",
    "\n",
    "q1 = np.quantile(class_b, 0.25)\n",
    "q2 = np.quantile(class_b, 0.5)\n",
    "q3 = np.quantile(class_b, 0.75)\n",
    "\n",
    "#Output:\n",
    "print(\"Erstes Quantil:\", q1)\n",
    "print(\"Zweites Quantil:\", q2)\n",
    "print(\"Drittes Quantil:\", q3)\n",
    "print(f\"IQR: {q3 - q1}\")\n",
    "\n",
    "#Box Plot\n",
    "sns.boxplot(class_b)"
   ]
  },
  {
   "cell_type": "markdown",
   "metadata": {},
   "source": [
    "### Class C"
   ]
  },
  {
   "cell_type": "code",
   "execution_count": 12,
   "metadata": {},
   "outputs": [
    {
     "name": "stdout",
     "output_type": "stream",
     "text": [
      "Erstes Quantil: 74.5\n",
      "Zweites Quantil: 79.0\n",
      "Drittes Quantil: 83.5\n",
      "IQR: 9.0\n"
     ]
    },
    {
     "data": {
      "text/plain": [
       "<Axes: >"
      ]
     },
     "execution_count": 12,
     "metadata": {},
     "output_type": "execute_result"
    },
    {
     "data": {
      "image/png": "[encoded data removed]",
      "text/plain": [
       "<Figure size 640x480 with 1 Axes>"
      ]
     },
     "metadata": {},
     "output_type": "display_data"
    }
   ],
   "source": [
    "class_c = [70, 72, 74, 76, 78, 80, 82, 84, 86, 88]\n",
    "\n",
    "q1 = np.quantile(class_c, 0.25)\n",
    "q2 = np.quantile(class_c, 0.5)\n",
    "q3 = np.quantile(class_c, 0.75)\n",
    "\n",
    "#Output:\n",
    "print(\"Erstes Quantil:\", q1)\n",
    "print(\"Zweites Quantil:\", q2)\n",
    "print(\"Drittes Quantil:\", q3)\n",
    "print(f\"IQR: {q3 - q1}\")\n",
    "\n",
    "#Box Plot\n",
    "sns.boxplot(class_c)"
   ]
  },
  {
   "cell_type": "markdown",
   "metadata": {},
   "source": [
    "### Class D"
   ]
  },
  {
   "cell_type": "code",
   "execution_count": 13,
   "metadata": {},
   "outputs": [
    {
     "name": "stdout",
     "output_type": "stream",
     "text": [
      "Erstes Quantil: 66.25\n",
      "Zweites Quantil: 77.5\n",
      "Drittes Quantil: 88.75\n",
      "IQR: 22.5\n"
     ]
    },
    {
     "data": {
      "text/plain": [
       "<Axes: >"
      ]
     },
     "execution_count": 13,
     "metadata": {},
     "output_type": "execute_result"
    },
    {
     "data": {
      "image/png": "[encoded data removed]",
      "text/plain": [
       "<Figure size 640x480 with 1 Axes>"
      ]
     },
     "metadata": {},
     "output_type": "display_data"
    }
   ],
   "source": [
    "class_d = [55, 60, 65, 70, 75, 80, 85, 90, 95, 100]\n",
    "\n",
    "q1 = np.quantile(class_d, 0.25)\n",
    "q2 = np.quantile(class_d, 0.5)\n",
    "q3 = np.quantile(class_d, 0.75)\n",
    "\n",
    "#Output:\n",
    "print(\"Erstes Quantil:\", q1)\n",
    "print(\"Zweites Quantil:\", q2)\n",
    "print(\"Drittes Quantil:\", q3)\n",
    "print(f\"IQR: {q3 - q1}\")\n",
    "\n",
    "#Box Plot\n",
    "sns.boxplot(class_d)"
   ]
  },
  {
   "cell_type": "markdown",
   "metadata": {},
   "source": [
    "### Class E"
   ]
  },
  {
   "cell_type": "code",
   "execution_count": 14,
   "metadata": {},
   "outputs": [
    {
     "name": "stdout",
     "output_type": "stream",
     "text": [
      "Erstes Quantil: 89.25\n",
      "Zweites Quantil: 92.5\n",
      "Drittes Quantil: 95.5\n",
      "IQR: 6.25\n"
     ]
    },
    {
     "data": {
      "text/plain": [
       "<Axes: >"
      ]
     },
     "execution_count": 14,
     "metadata": {},
     "output_type": "execute_result"
    },
    {
     "data": {
      "image/png": "[encoded data removed]",
      "text/plain": [
       "<Figure size 640x480 with 1 Axes>"
      ]
     },
     "metadata": {},
     "output_type": "display_data"
    }
   ],
   "source": [
    "class_e = [85, 88, 89, 90, 92, 93, 94, 96, 98, 100]\n",
    "\n",
    "q1 = np.quantile(class_e, 0.25)\n",
    "q2 = np.quantile(class_e, 0.5)\n",
    "q3 = np.quantile(class_e, 0.75)\n",
    "\n",
    "#Output:\n",
    "print(\"Erstes Quantil:\", q1)\n",
    "print(\"Zweites Quantil:\", q2)\n",
    "print(\"Drittes Quantil:\", q3)\n",
    "print(f\"IQR: {q3 - q1}\")\n",
    "\n",
    "#Box Plot\n",
    "sns.boxplot(class_e)"
   ]
  },
  {
   "cell_type": "markdown",
   "metadata": {},
   "source": [
    "## Boxplots für alle Klassen"
   ]
  },
  {
   "cell_type": "code",
   "execution_count": 16,
   "metadata": {},
   "outputs": [
    {
     "data": {
      "image/png": "[encoded data removed]",
      "text/plain": [
       "<Figure size 640x480 with 1 Axes>"
      ]
     },
     "metadata": {},
     "output_type": "display_data"
    }
   ],
   "source": [
    "fig1, ax1 = plt.subplots()\n",
    "ax1.set_title('Basic Plot')\n",
    "ax1.boxplot([class_a, class_b, class_c, class_d, class_e])\n",
    "plt.yticks([1, 2, 3, 4, 5], ['A', 'B', 'C','D','E'])\n",
    "plt.show()\n"
   ]
  },
  {
   "cell_type": "markdown",
   "metadata": {},
   "source": [
    "## Conclusion\n",
    "\n",
    "During this project you learn about quantiles, percentiles, box-plot and IQR. These statistical concepts are commonly used in data analysis and are important tools for understanding the distribution and variability of data.\n",
    "\n",
    "In addition to box-plots, other visual representations of data such as histograms and scatter plots can also be used to analyze data. Histograms show the distribution of data by dividing it into intervals or \"bins\" and displaying the number of observations that fall into each bin. Scatter plots are used to visualize the relationship between two variables and can reveal patterns or trends in the data.\n",
    "\n",
    "When analyzing data, it is important to consider any outliers that may be present. Outliers are data points that are significantly different from the other observations and can have a strong influence on statistical analysis. Techniques such as the 1.5 IQR rule can be used to identify and remove outliers from the data set.\n",
    "\n",
    "Overall, understanding these statistical concepts and using appropriate tools for data analysis can provide valuable insights into the underlying patterns and characteristics of the data.\n"
   ]
  }
 ],
 "metadata": {
  "kernelspec": {
   "display_name": "Python 3",
   "language": "python",
   "name": "python3"
  },
  "language_info": {
   "codemirror_mode": {
    "name": "ipython",
    "version": 3
   },
   "file_extension": ".py",
   "mimetype": "text/x-python",
   "name": "python",
   "nbconvert_exporter": "python",
   "pygments_lexer": "ipython3",
   "version": "3.11.2"
  }
 },
 "nbformat": 4,
 "nbformat_minor": 2
}
