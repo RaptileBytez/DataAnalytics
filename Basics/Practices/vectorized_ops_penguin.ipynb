{
 "cells": [
  {
   "cell_type": "markdown",
   "metadata": {},
   "source": [
    "# Practicing Series Vectorized Operations with Penguins Data\n",
    "Now it's time to put your knowledge of vectorized operations on Pandas series to the test. In this lab, we will be working with a dataset that contains information about penguins. Each penguin is described by various attributes such as species, island, culmen length, culmen depth, flipper length, body mass, and gender.\n",
    "\n",
    "In this lab we will practice vectorized operations on Pandas series. We will learn how to perform arithmetic operations on series and apply mathematical functions to series.\n",
    "\n",
    "Throughout the lab, you will be presented with coding activities that require you to write code snippets to perform specific operations on the series. Each activity will be followed by a solution, allowing you to verify your code and understand the correct approach.\n",
    "\n",
    "In addition to individual topic-based activities, there will also be mixed-topic activities that require you to combine different operations to achieve a specific outcome. These activities will test your ability to apply multiple concepts simultaneously.\n",
    "\n",
    "By the end of this lab, you will have gained a solid understanding of vectorized operations on Pandas series and be able to manipulate and analyze data efficiently using these techniques.\n",
    "\n",
    "Let's dive into the activities and explore the power of vectorized operations on Pandas series!"
   ]
  },
  {
   "cell_type": "code",
   "execution_count": 1,
   "metadata": {},
   "outputs": [
    {
     "data": {
      "text/html": [
       "<div>\n",
       "<style scoped>\n",
       "    .dataframe tbody tr th:only-of-type {\n",
       "        vertical-align: middle;\n",
       "    }\n",
       "\n",
       "    .dataframe tbody tr th {\n",
       "        vertical-align: top;\n",
       "    }\n",
       "\n",
       "    .dataframe thead th {\n",
       "        text-align: right;\n",
       "    }\n",
       "</style>\n",
       "<table border=\"1\" class=\"dataframe\">\n",
       "  <thead>\n",
       "    <tr style=\"text-align: right;\">\n",
       "      <th></th>\n",
       "      <th>species</th>\n",
       "      <th>island</th>\n",
       "      <th>culmen_length_mm</th>\n",
       "      <th>culmen_depth_mm</th>\n",
       "      <th>flipper_length_mm</th>\n",
       "      <th>body_mass_g</th>\n",
       "      <th>sex</th>\n",
       "    </tr>\n",
       "  </thead>\n",
       "  <tbody>\n",
       "    <tr>\n",
       "      <th>0</th>\n",
       "      <td>Adelie</td>\n",
       "      <td>Torgersen</td>\n",
       "      <td>39.1</td>\n",
       "      <td>18.7</td>\n",
       "      <td>181.0</td>\n",
       "      <td>3750.0</td>\n",
       "      <td>MALE</td>\n",
       "    </tr>\n",
       "    <tr>\n",
       "      <th>1</th>\n",
       "      <td>Adelie</td>\n",
       "      <td>Torgersen</td>\n",
       "      <td>39.5</td>\n",
       "      <td>17.4</td>\n",
       "      <td>186.0</td>\n",
       "      <td>3800.0</td>\n",
       "      <td>FEMALE</td>\n",
       "    </tr>\n",
       "    <tr>\n",
       "      <th>2</th>\n",
       "      <td>Adelie</td>\n",
       "      <td>Torgersen</td>\n",
       "      <td>40.3</td>\n",
       "      <td>18.0</td>\n",
       "      <td>195.0</td>\n",
       "      <td>3250.0</td>\n",
       "      <td>FEMALE</td>\n",
       "    </tr>\n",
       "    <tr>\n",
       "      <th>3</th>\n",
       "      <td>Adelie</td>\n",
       "      <td>Torgersen</td>\n",
       "      <td>36.7</td>\n",
       "      <td>19.3</td>\n",
       "      <td>193.0</td>\n",
       "      <td>3450.0</td>\n",
       "      <td>FEMALE</td>\n",
       "    </tr>\n",
       "    <tr>\n",
       "      <th>4</th>\n",
       "      <td>Adelie</td>\n",
       "      <td>Torgersen</td>\n",
       "      <td>39.3</td>\n",
       "      <td>20.6</td>\n",
       "      <td>190.0</td>\n",
       "      <td>3650.0</td>\n",
       "      <td>MALE</td>\n",
       "    </tr>\n",
       "  </tbody>\n",
       "</table>\n",
       "</div>"
      ],
      "text/plain": [
       "  species     island  culmen_length_mm  culmen_depth_mm  flipper_length_mm  \\\n",
       "0  Adelie  Torgersen              39.1             18.7              181.0   \n",
       "1  Adelie  Torgersen              39.5             17.4              186.0   \n",
       "2  Adelie  Torgersen              40.3             18.0              195.0   \n",
       "3  Adelie  Torgersen              36.7             19.3              193.0   \n",
       "4  Adelie  Torgersen              39.3             20.6              190.0   \n",
       "\n",
       "   body_mass_g     sex  \n",
       "0       3750.0    MALE  \n",
       "1       3800.0  FEMALE  \n",
       "2       3250.0  FEMALE  \n",
       "3       3450.0  FEMALE  \n",
       "4       3650.0    MALE  "
      ]
     },
     "execution_count": 1,
     "metadata": {},
     "output_type": "execute_result"
    }
   ],
   "source": [
    "import pandas as pd\n",
    "csv_file_path = \"../../data/penguins_cleaned.csv\"\n",
    "df = pd.read_csv(csv_file_path)\n",
    "df.head()"
   ]
  },
  {
   "cell_type": "code",
   "execution_count": 2,
   "metadata": {},
   "outputs": [],
   "source": [
    "# Convert all columns to pandas Series\n",
    "species = df['species']\n",
    "island = df['island']\n",
    "culmen_length_mm = df['culmen_length_mm']\n",
    "culmen_depth_mm = df['culmen_depth_mm']\n",
    "flipper_length_mm = df['flipper_length_mm']\n",
    "body_mass_g = df['body_mass_g']\n",
    "gender = df['sex']"
   ]
  },
  {
   "cell_type": "markdown",
   "metadata": {},
   "source": [
    "## Activities"
   ]
  },
  {
   "cell_type": "markdown",
   "metadata": {},
   "source": [
    "### 1. Add a constant value of 100 to the body_mass_g series\n",
    "\n",
    "Create a new series called body_mass_g_plus_100 by adding a constant value of 100 to the body_mass_g series."
   ]
  },
  {
   "cell_type": "code",
   "execution_count": 3,
   "metadata": {},
   "outputs": [],
   "source": [
    "body_mass_g_plus_100 = body_mass_g + 100"
   ]
  },
  {
   "cell_type": "markdown",
   "metadata": {},
   "source": [
    "### 2. Subtract the culmen_length_mm series from the flipper_length_mm series\n",
    "\n",
    "Subtract the culmen_length_mm series from the flipper_length_mm series and assign the result to a new series called length_difference."
   ]
  },
  {
   "cell_type": "code",
   "execution_count": 4,
   "metadata": {},
   "outputs": [],
   "source": [
    "length_difference = flipper_length_mm - culmen_length_mm"
   ]
  },
  {
   "cell_type": "markdown",
   "metadata": {},
   "source": [
    "### 3. Multiply the culmen_depth_mm series by 2\n",
    "\n",
    "Multiply the culmen_depth_mm series by 2 and assign the result to a new series called double_culmen_depth_mm."
   ]
  },
  {
   "cell_type": "code",
   "execution_count": 5,
   "metadata": {},
   "outputs": [],
   "source": [
    "double_culmen_depth_mm = culmen_depth_mm * 2"
   ]
  },
  {
   "cell_type": "markdown",
   "metadata": {},
   "source": [
    "### 4. Raise the flipper_length_mm series to the power of 2\n",
    "\n",
    "Create a new series called flipper_length_mm_squared by raising the flipper_length_mm series to the power of 2."
   ]
  },
  {
   "cell_type": "code",
   "execution_count": 6,
   "metadata": {},
   "outputs": [],
   "source": [
    "flipper_length_mm_squared = flipper_length_mm ** 2"
   ]
  },
  {
   "cell_type": "markdown",
   "metadata": {},
   "source": [
    "### 5. Calculate the mean of the culmen_length_mm series and subtract it from each value in the series\n",
    "\n",
    "Find the mean of the culmen_length_mm series and subtract it from each value in the series. Assign the result to a new series called culmen_length_mm_mean_centered."
   ]
  },
  {
   "cell_type": "code",
   "execution_count": 7,
   "metadata": {},
   "outputs": [],
   "source": [
    "culmen_length_mm_mean_centered = culmen_length_mm - culmen_length_mm.mean()"
   ]
  },
  {
   "cell_type": "markdown",
   "metadata": {},
   "source": [
    "### 6. Concatenate the species and gender series, separated by a hyphen -\n",
    "\n",
    "Create a new series called species_and_gender by concatenating the species and gender series, separated by a hyphen (-)."
   ]
  },
  {
   "cell_type": "code",
   "execution_count": null,
   "metadata": {},
   "outputs": [],
   "source": [
    "species_and_gender = species + '-' + gender"
   ]
  },
  {
   "cell_type": "markdown",
   "metadata": {},
   "source": [
    "### 7. Perform element-wise addition of culmen_length_mm and culmen_depth_mm\n",
    "\n",
    "Add culmen_length_mm and culmen_depth_mm together and assign the result to a new variable called culmen_length_plus_depth_mm."
   ]
  },
  {
   "cell_type": "code",
   "execution_count": 17,
   "metadata": {},
   "outputs": [],
   "source": [
    "culmen_length_plus_depth_mm = culmen_length_mm + culmen_depth_mm"
   ]
  },
  {
   "cell_type": "markdown",
   "metadata": {},
   "source": [
    "### 8. Sort culmen_length_mm in descending order\n",
    "\n",
    "Create a new series called culmen_length_mm_sorted by sorting culmen_length_mm in descending order"
   ]
  },
  {
   "cell_type": "code",
   "execution_count": 16,
   "metadata": {},
   "outputs": [],
   "source": [
    "culmen_length_mm_sorted = culmen_length_mm.sort_values(ascending=False)\n"
   ]
  },
  {
   "cell_type": "markdown",
   "metadata": {},
   "source": [
    "### 9. Divide flipper_length_mm by culmen_length_mm\n",
    "\n",
    "Find the ratio of each penguin's flipper length to its culmen length and assign the result to a new variable called length_ratio."
   ]
  },
  {
   "cell_type": "code",
   "execution_count": 9,
   "metadata": {},
   "outputs": [],
   "source": [
    "length_ratio = flipper_length_mm / culmen_length_mm"
   ]
  }
 ],
 "metadata": {
  "kernelspec": {
   "display_name": "Python 3",
   "language": "python",
   "name": "python3"
  },
  "language_info": {
   "codemirror_mode": {
    "name": "ipython",
    "version": 3
   },
   "file_extension": ".py",
   "mimetype": "text/x-python",
   "name": "python",
   "nbconvert_exporter": "python",
   "pygments_lexer": "ipython3",
   "version": "3.11.2"
  }
 },
 "nbformat": 4,
 "nbformat_minor": 2
}
