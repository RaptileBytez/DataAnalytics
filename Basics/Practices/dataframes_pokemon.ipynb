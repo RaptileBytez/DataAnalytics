{
 "cells": [
  {
   "cell_type": "markdown",
   "metadata": {},
   "source": [
    "# Exploring DataFrames with Pokemon data"
   ]
  },
  {
   "cell_type": "markdown",
   "metadata": {},
   "source": [
    "In this project, we'll explore the basics of DataFrames using a Dataset containing Pokemon information.\n",
    "\n",
    "We'll start by reading the dataset using the pd.read_csv() method.\n",
    "\n",
    "Then, the df.head() and df.info() methods gives us a bit more information about the underlying data.\n",
    "\n",
    "Play around with it and once you're ready, jump to the next page to complete the activities."
   ]
  },
  {
   "cell_type": "code",
   "execution_count": 1,
   "metadata": {},
   "outputs": [],
   "source": [
    "import pandas as pd\n",
    "import numpy as np \n",
    "import matplotlib.pyplot as plt \n",
    "import seaborn as sns\n",
    " \n",
    "path_to_csv = \"../../data/pokemon.csv\""
   ]
  },
  {
   "cell_type": "code",
   "execution_count": 2,
   "metadata": {},
   "outputs": [
    {
     "data": {
      "text/html": [
       "<div>\n",
       "<style scoped>\n",
       "    .dataframe tbody tr th:only-of-type {\n",
       "        vertical-align: middle;\n",
       "    }\n",
       "\n",
       "    .dataframe tbody tr th {\n",
       "        vertical-align: top;\n",
       "    }\n",
       "\n",
       "    .dataframe thead th {\n",
       "        text-align: right;\n",
       "    }\n",
       "</style>\n",
       "<table border=\"1\" class=\"dataframe\">\n",
       "  <thead>\n",
       "    <tr style=\"text-align: right;\">\n",
       "      <th></th>\n",
       "      <th>#</th>\n",
       "      <th>Name</th>\n",
       "      <th>Type 1</th>\n",
       "      <th>Type 2</th>\n",
       "      <th>Total</th>\n",
       "      <th>HP</th>\n",
       "      <th>Attack</th>\n",
       "      <th>Defense</th>\n",
       "      <th>Sp. Atk</th>\n",
       "      <th>Sp. Def</th>\n",
       "      <th>Speed</th>\n",
       "      <th>Generation</th>\n",
       "      <th>Legendary</th>\n",
       "    </tr>\n",
       "  </thead>\n",
       "  <tbody>\n",
       "    <tr>\n",
       "      <th>0</th>\n",
       "      <td>1</td>\n",
       "      <td>Bulbasaur</td>\n",
       "      <td>Grass</td>\n",
       "      <td>Poison</td>\n",
       "      <td>318</td>\n",
       "      <td>45</td>\n",
       "      <td>49</td>\n",
       "      <td>49</td>\n",
       "      <td>65</td>\n",
       "      <td>65</td>\n",
       "      <td>45</td>\n",
       "      <td>1</td>\n",
       "      <td>False</td>\n",
       "    </tr>\n",
       "    <tr>\n",
       "      <th>1</th>\n",
       "      <td>2</td>\n",
       "      <td>Ivysaur</td>\n",
       "      <td>Grass</td>\n",
       "      <td>Poison</td>\n",
       "      <td>405</td>\n",
       "      <td>60</td>\n",
       "      <td>62</td>\n",
       "      <td>63</td>\n",
       "      <td>80</td>\n",
       "      <td>80</td>\n",
       "      <td>60</td>\n",
       "      <td>1</td>\n",
       "      <td>False</td>\n",
       "    </tr>\n",
       "    <tr>\n",
       "      <th>2</th>\n",
       "      <td>3</td>\n",
       "      <td>Venusaur</td>\n",
       "      <td>Grass</td>\n",
       "      <td>Poison</td>\n",
       "      <td>525</td>\n",
       "      <td>80</td>\n",
       "      <td>82</td>\n",
       "      <td>83</td>\n",
       "      <td>100</td>\n",
       "      <td>100</td>\n",
       "      <td>80</td>\n",
       "      <td>1</td>\n",
       "      <td>False</td>\n",
       "    </tr>\n",
       "    <tr>\n",
       "      <th>3</th>\n",
       "      <td>4</td>\n",
       "      <td>Charmander</td>\n",
       "      <td>Fire</td>\n",
       "      <td>NaN</td>\n",
       "      <td>309</td>\n",
       "      <td>39</td>\n",
       "      <td>52</td>\n",
       "      <td>43</td>\n",
       "      <td>60</td>\n",
       "      <td>50</td>\n",
       "      <td>65</td>\n",
       "      <td>1</td>\n",
       "      <td>False</td>\n",
       "    </tr>\n",
       "    <tr>\n",
       "      <th>4</th>\n",
       "      <td>5</td>\n",
       "      <td>Charmeleon</td>\n",
       "      <td>Fire</td>\n",
       "      <td>NaN</td>\n",
       "      <td>405</td>\n",
       "      <td>58</td>\n",
       "      <td>64</td>\n",
       "      <td>58</td>\n",
       "      <td>80</td>\n",
       "      <td>65</td>\n",
       "      <td>80</td>\n",
       "      <td>1</td>\n",
       "      <td>False</td>\n",
       "    </tr>\n",
       "  </tbody>\n",
       "</table>\n",
       "</div>"
      ],
      "text/plain": [
       "   #        Name Type 1  Type 2  Total  HP  Attack  Defense  Sp. Atk  Sp. Def  \\\n",
       "0  1   Bulbasaur  Grass  Poison    318  45      49       49       65       65   \n",
       "1  2     Ivysaur  Grass  Poison    405  60      62       63       80       80   \n",
       "2  3    Venusaur  Grass  Poison    525  80      82       83      100      100   \n",
       "3  4  Charmander   Fire     NaN    309  39      52       43       60       50   \n",
       "4  5  Charmeleon   Fire     NaN    405  58      64       58       80       65   \n",
       "\n",
       "   Speed  Generation  Legendary  \n",
       "0     45           1      False  \n",
       "1     60           1      False  \n",
       "2     80           1      False  \n",
       "3     65           1      False  \n",
       "4     80           1      False  "
      ]
     },
     "execution_count": 2,
     "metadata": {},
     "output_type": "execute_result"
    }
   ],
   "source": [
    "df = pd.read_csv(path_to_csv)\n",
    "df.head()"
   ]
  },
  {
   "cell_type": "code",
   "execution_count": 3,
   "metadata": {},
   "outputs": [
    {
     "name": "stdout",
     "output_type": "stream",
     "text": [
      "<class 'pandas.core.frame.DataFrame'>\n",
      "RangeIndex: 721 entries, 0 to 720\n",
      "Data columns (total 13 columns):\n",
      " #   Column      Non-Null Count  Dtype \n",
      "---  ------      --------------  ----- \n",
      " 0   #           721 non-null    int64 \n",
      " 1   Name        721 non-null    object\n",
      " 2   Type 1      721 non-null    object\n",
      " 3   Type 2      359 non-null    object\n",
      " 4   Total       721 non-null    int64 \n",
      " 5   HP          721 non-null    int64 \n",
      " 6   Attack      721 non-null    int64 \n",
      " 7   Defense     721 non-null    int64 \n",
      " 8   Sp. Atk     721 non-null    int64 \n",
      " 9   Sp. Def     721 non-null    int64 \n",
      " 10  Speed       721 non-null    int64 \n",
      " 11  Generation  721 non-null    int64 \n",
      " 12  Legendary   721 non-null    bool  \n",
      "dtypes: bool(1), int64(9), object(3)\n",
      "memory usage: 68.4+ KB\n"
     ]
    }
   ],
   "source": [
    "df.info()"
   ]
  },
  {
   "cell_type": "code",
   "execution_count": 4,
   "metadata": {},
   "outputs": [
    {
     "data": {
      "text/html": [
       "<div>\n",
       "<style scoped>\n",
       "    .dataframe tbody tr th:only-of-type {\n",
       "        vertical-align: middle;\n",
       "    }\n",
       "\n",
       "    .dataframe tbody tr th {\n",
       "        vertical-align: top;\n",
       "    }\n",
       "\n",
       "    .dataframe thead th {\n",
       "        text-align: right;\n",
       "    }\n",
       "</style>\n",
       "<table border=\"1\" class=\"dataframe\">\n",
       "  <thead>\n",
       "    <tr style=\"text-align: right;\">\n",
       "      <th></th>\n",
       "      <th>#</th>\n",
       "      <th>Total</th>\n",
       "      <th>HP</th>\n",
       "      <th>Attack</th>\n",
       "      <th>Defense</th>\n",
       "      <th>Sp. Atk</th>\n",
       "      <th>Sp. Def</th>\n",
       "      <th>Speed</th>\n",
       "      <th>Generation</th>\n",
       "    </tr>\n",
       "  </thead>\n",
       "  <tbody>\n",
       "    <tr>\n",
       "      <th>count</th>\n",
       "      <td>721.00000</td>\n",
       "      <td>721.000000</td>\n",
       "      <td>721.000000</td>\n",
       "      <td>721.000000</td>\n",
       "      <td>721.000000</td>\n",
       "      <td>721.000000</td>\n",
       "      <td>721.000000</td>\n",
       "      <td>721.000000</td>\n",
       "      <td>721.000000</td>\n",
       "    </tr>\n",
       "    <tr>\n",
       "      <th>mean</th>\n",
       "      <td>361.00000</td>\n",
       "      <td>417.945908</td>\n",
       "      <td>68.380028</td>\n",
       "      <td>75.124827</td>\n",
       "      <td>70.697642</td>\n",
       "      <td>68.848821</td>\n",
       "      <td>69.180305</td>\n",
       "      <td>65.714286</td>\n",
       "      <td>3.323162</td>\n",
       "    </tr>\n",
       "    <tr>\n",
       "      <th>std</th>\n",
       "      <td>208.27906</td>\n",
       "      <td>109.663671</td>\n",
       "      <td>25.848272</td>\n",
       "      <td>29.070335</td>\n",
       "      <td>29.194941</td>\n",
       "      <td>28.898590</td>\n",
       "      <td>26.899364</td>\n",
       "      <td>27.277920</td>\n",
       "      <td>1.669873</td>\n",
       "    </tr>\n",
       "    <tr>\n",
       "      <th>min</th>\n",
       "      <td>1.00000</td>\n",
       "      <td>180.000000</td>\n",
       "      <td>1.000000</td>\n",
       "      <td>5.000000</td>\n",
       "      <td>5.000000</td>\n",
       "      <td>10.000000</td>\n",
       "      <td>20.000000</td>\n",
       "      <td>5.000000</td>\n",
       "      <td>1.000000</td>\n",
       "    </tr>\n",
       "    <tr>\n",
       "      <th>25%</th>\n",
       "      <td>181.00000</td>\n",
       "      <td>320.000000</td>\n",
       "      <td>50.000000</td>\n",
       "      <td>54.000000</td>\n",
       "      <td>50.000000</td>\n",
       "      <td>45.000000</td>\n",
       "      <td>50.000000</td>\n",
       "      <td>45.000000</td>\n",
       "      <td>2.000000</td>\n",
       "    </tr>\n",
       "    <tr>\n",
       "      <th>50%</th>\n",
       "      <td>361.00000</td>\n",
       "      <td>424.000000</td>\n",
       "      <td>65.000000</td>\n",
       "      <td>75.000000</td>\n",
       "      <td>65.000000</td>\n",
       "      <td>65.000000</td>\n",
       "      <td>65.000000</td>\n",
       "      <td>65.000000</td>\n",
       "      <td>3.000000</td>\n",
       "    </tr>\n",
       "    <tr>\n",
       "      <th>75%</th>\n",
       "      <td>541.00000</td>\n",
       "      <td>499.000000</td>\n",
       "      <td>80.000000</td>\n",
       "      <td>95.000000</td>\n",
       "      <td>85.000000</td>\n",
       "      <td>90.000000</td>\n",
       "      <td>85.000000</td>\n",
       "      <td>85.000000</td>\n",
       "      <td>5.000000</td>\n",
       "    </tr>\n",
       "    <tr>\n",
       "      <th>max</th>\n",
       "      <td>721.00000</td>\n",
       "      <td>720.000000</td>\n",
       "      <td>255.000000</td>\n",
       "      <td>165.000000</td>\n",
       "      <td>230.000000</td>\n",
       "      <td>154.000000</td>\n",
       "      <td>230.000000</td>\n",
       "      <td>160.000000</td>\n",
       "      <td>6.000000</td>\n",
       "    </tr>\n",
       "  </tbody>\n",
       "</table>\n",
       "</div>"
      ],
      "text/plain": [
       "               #       Total          HP      Attack     Defense     Sp. Atk  \\\n",
       "count  721.00000  721.000000  721.000000  721.000000  721.000000  721.000000   \n",
       "mean   361.00000  417.945908   68.380028   75.124827   70.697642   68.848821   \n",
       "std    208.27906  109.663671   25.848272   29.070335   29.194941   28.898590   \n",
       "min      1.00000  180.000000    1.000000    5.000000    5.000000   10.000000   \n",
       "25%    181.00000  320.000000   50.000000   54.000000   50.000000   45.000000   \n",
       "50%    361.00000  424.000000   65.000000   75.000000   65.000000   65.000000   \n",
       "75%    541.00000  499.000000   80.000000   95.000000   85.000000   90.000000   \n",
       "max    721.00000  720.000000  255.000000  165.000000  230.000000  154.000000   \n",
       "\n",
       "          Sp. Def       Speed  Generation  \n",
       "count  721.000000  721.000000  721.000000  \n",
       "mean    69.180305   65.714286    3.323162  \n",
       "std     26.899364   27.277920    1.669873  \n",
       "min     20.000000    5.000000    1.000000  \n",
       "25%     50.000000   45.000000    2.000000  \n",
       "50%     65.000000   65.000000    3.000000  \n",
       "75%     85.000000   85.000000    5.000000  \n",
       "max    230.000000  160.000000    6.000000  "
      ]
     },
     "execution_count": 4,
     "metadata": {},
     "output_type": "execute_result"
    }
   ],
   "source": [
    "df.describe()"
   ]
  },
  {
   "cell_type": "markdown",
   "metadata": {},
   "source": [
    "## Basic Activities"
   ]
  },
  {
   "cell_type": "markdown",
   "metadata": {},
   "source": [
    "### 1. How many rows has our DataFrame?\n",
    "\n",
    "How many total rows do we have in df"
   ]
  },
  {
   "cell_type": "code",
   "execution_count": 6,
   "metadata": {},
   "outputs": [
    {
     "name": "stdout",
     "output_type": "stream",
     "text": [
      "<class 'pandas.core.frame.DataFrame'>\n",
      "RangeIndex: 721 entries, 0 to 720\n",
      "Data columns (total 13 columns):\n",
      " #   Column      Non-Null Count  Dtype \n",
      "---  ------      --------------  ----- \n",
      " 0   #           721 non-null    int64 \n",
      " 1   Name        721 non-null    object\n",
      " 2   Type 1      721 non-null    object\n",
      " 3   Type 2      359 non-null    object\n",
      " 4   Total       721 non-null    int64 \n",
      " 5   HP          721 non-null    int64 \n",
      " 6   Attack      721 non-null    int64 \n",
      " 7   Defense     721 non-null    int64 \n",
      " 8   Sp. Atk     721 non-null    int64 \n",
      " 9   Sp. Def     721 non-null    int64 \n",
      " 10  Speed       721 non-null    int64 \n",
      " 11  Generation  721 non-null    int64 \n",
      " 12  Legendary   721 non-null    bool  \n",
      "dtypes: bool(1), int64(9), object(3)\n",
      "memory usage: 68.4+ KB\n"
     ]
    }
   ],
   "source": [
    "df.info()"
   ]
  },
  {
   "cell_type": "markdown",
   "metadata": {},
   "source": [
    "### 2. What's the type of index of our DataFrame?"
   ]
  },
  {
   "cell_type": "markdown",
   "metadata": {},
   "source": [
    "RangeIndex"
   ]
  },
  {
   "cell_type": "markdown",
   "metadata": {},
   "source": [
    "### 3. How many columns does the DataFrame have?"
   ]
  },
  {
   "cell_type": "markdown",
   "metadata": {},
   "source": [
    "13"
   ]
  },
  {
   "cell_type": "markdown",
   "metadata": {},
   "source": [
    "### 4. What's the shape of our DataFrame?"
   ]
  },
  {
   "cell_type": "code",
   "execution_count": 7,
   "metadata": {},
   "outputs": [
    {
     "data": {
      "text/plain": [
       "(721, 13)"
      ]
     },
     "execution_count": 7,
     "metadata": {},
     "output_type": "execute_result"
    }
   ],
   "source": [
    "df.shape"
   ]
  },
  {
   "cell_type": "markdown",
   "metadata": {},
   "source": [
    "### 5. What is the type of the column Name?"
   ]
  },
  {
   "cell_type": "markdown",
   "metadata": {},
   "source": [
    "Object"
   ]
  },
  {
   "cell_type": "markdown",
   "metadata": {},
   "source": [
    "### 6. Which columns are of a numeric type?"
   ]
  },
  {
   "cell_type": "markdown",
   "metadata": {},
   "source": [
    "- '#'\n",
    "- Total\n",
    "- HP\n",
    "- Attack\n",
    "- Defense\n",
    "- Sp. Atk\n",
    "- Sp- Def\n",
    "- Speed\n",
    "- Generation"
   ]
  },
  {
   "cell_type": "markdown",
   "metadata": {},
   "source": [
    "## Advanced Activities"
   ]
  },
  {
   "cell_type": "markdown",
   "metadata": {},
   "source": [
    "### 7. Select the column Defense\n",
    "\n",
    "Select the column defense and store it in the variable defense_col."
   ]
  },
  {
   "cell_type": "code",
   "execution_count": 9,
   "metadata": {},
   "outputs": [],
   "source": [
    "defense_col = df['Defense']"
   ]
  },
  {
   "cell_type": "markdown",
   "metadata": {},
   "source": [
    "### 8. What's the type of the variable defense_col?\n",
    "\n",
    "What's the type of the variable in which you've selected the column Defense?"
   ]
  },
  {
   "cell_type": "code",
   "execution_count": 10,
   "metadata": {},
   "outputs": [
    {
     "data": {
      "text/plain": [
       "pandas.core.series.Series"
      ]
     },
     "execution_count": 10,
     "metadata": {},
     "output_type": "execute_result"
    }
   ],
   "source": [
    "type(defense_col)"
   ]
  },
  {
   "cell_type": "markdown",
   "metadata": {},
   "source": [
    "### 9. What's the maximum value of Attack?\n",
    "\n",
    "Insert the whole number, without decimals"
   ]
  },
  {
   "cell_type": "code",
   "execution_count": 19,
   "metadata": {},
   "outputs": [
    {
     "data": {
      "text/plain": [
       "165"
      ]
     },
     "execution_count": 19,
     "metadata": {},
     "output_type": "execute_result"
    }
   ],
   "source": [
    "df['Attack'].max()"
   ]
  },
  {
   "cell_type": "markdown",
   "metadata": {},
   "source": [
    "### 10. What's the average value for Speed?\n",
    "\n",
    "Insert the answer up to 2 decimals. Example, if the value is 84.813799 insert just 84.81."
   ]
  },
  {
   "cell_type": "code",
   "execution_count": 20,
   "metadata": {},
   "outputs": [
    {
     "data": {
      "text/plain": [
       "65.71428571428571"
      ]
     },
     "execution_count": 20,
     "metadata": {},
     "output_type": "execute_result"
    }
   ],
   "source": [
    "df['Speed'].mean()"
   ]
  }
 ],
 "metadata": {
  "kernelspec": {
   "display_name": "Python 3",
   "language": "python",
   "name": "python3"
  },
  "language_info": {
   "codemirror_mode": {
    "name": "ipython",
    "version": 3
   },
   "file_extension": ".py",
   "mimetype": "text/x-python",
   "name": "python",
   "nbconvert_exporter": "python",
   "pygments_lexer": "ipython3",
   "version": "3.11.2"
  }
 },
 "nbformat": 4,
 "nbformat_minor": 2
}
