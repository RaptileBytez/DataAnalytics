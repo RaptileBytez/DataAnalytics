{
 "cells": [
  {
   "cell_type": "markdown",
   "metadata": {},
   "source": [
    "# The STAR WARS Character Dataset"
   ]
  },
  {
   "cell_type": "code",
   "execution_count": 1,
   "metadata": {},
   "outputs": [],
   "source": [
    "import json"
   ]
  },
  {
   "cell_type": "markdown",
   "metadata": {},
   "source": [
    "## Creating the dataset"
   ]
  },
  {
   "cell_type": "code",
   "execution_count": 2,
   "metadata": {},
   "outputs": [],
   "source": [
    "with open('../../data/star_wars.json', 'r') as f:\n",
    "    dataset = json.loads(f.read())"
   ]
  },
  {
   "cell_type": "code",
   "execution_count": 3,
   "metadata": {},
   "outputs": [
    {
     "data": {
      "text/plain": [
       "16"
      ]
     },
     "execution_count": 3,
     "metadata": {},
     "output_type": "execute_result"
    }
   ],
   "source": [
    "len(dataset)"
   ]
  },
  {
   "cell_type": "markdown",
   "metadata": {},
   "source": [
    "## Analytical Questions"
   ]
  },
  {
   "cell_type": "markdown",
   "metadata": {},
   "source": [
    "### 1. How many Star Wars Characters are in the dataset?"
   ]
  },
  {
   "cell_type": "code",
   "execution_count": 4,
   "metadata": {},
   "outputs": [
    {
     "data": {
      "text/plain": [
       "16"
      ]
     },
     "execution_count": 4,
     "metadata": {},
     "output_type": "execute_result"
    }
   ],
   "source": [
    "char_names = []\n",
    "for c in dataset:\n",
    "    name = c['name']\n",
    "    char_names.append(name)\n",
    "\n",
    "len(char_names)"
   ]
  },
  {
   "cell_type": "markdown",
   "metadata": {},
   "source": [
    "### 2. Find the eye_color of the characters and their counts\n",
    "\n",
    "You should create a dictionary <code>eye_color</code> with the colors as keys and their counts as values. Counts are the number of characters with that eye color.\n",
    "\n",
    "Expected output should be a dictionary with keys as colors and values as counts.\n",
    "\n",
    "<code>\n",
    "{'brown': 3,\n",
    " 'blue-gray': 1,\n",
    " 'blue': 6,\n",
    " 'yellow': 2,\n",
    " 'red': 2,\n",
    " 'black': 1,\n",
    " 'orange': 1}\n",
    "</code>"
   ]
  },
  {
   "cell_type": "code",
   "execution_count": 5,
   "metadata": {},
   "outputs": [
    {
     "data": {
      "text/plain": [
       "{'blue': 6,\n",
       " 'yellow': 2,\n",
       " 'red': 2,\n",
       " 'brown': 3,\n",
       " 'blue-gray': 1,\n",
       " 'black': 1,\n",
       " 'orange': 1}"
      ]
     },
     "execution_count": 5,
     "metadata": {},
     "output_type": "execute_result"
    }
   ],
   "source": [
    "eye_color = {}\n",
    "for c in dataset:\n",
    "    color = c['eye_color']\n",
    "    if color not in eye_color:\n",
    "        eye_color[color] = 1\n",
    "    else:\n",
    "        eye_color[color] += 1\n",
    "\n",
    "eye_color"
   ]
  },
  {
   "cell_type": "markdown",
   "metadata": {},
   "source": [
    "### 3. What is the most predominant eye_color among all characters, and what is its count?"
   ]
  },
  {
   "cell_type": "code",
   "execution_count": 6,
   "metadata": {},
   "outputs": [
    {
     "name": "stdout",
     "output_type": "stream",
     "text": [
      "blue 6\n"
     ]
    }
   ],
   "source": [
    "predom_color = None\n",
    "max_count = -9999999\n",
    "for color, count in eye_color.items():\n",
    "    if count > max_count:\n",
    "        max_count = count\n",
    "        predom_color = color\n",
    "\n",
    "print(predom_color, max_count)"
   ]
  },
  {
   "cell_type": "markdown",
   "metadata": {},
   "source": [
    "### 4. How many female characters are listed?"
   ]
  },
  {
   "cell_type": "code",
   "execution_count": 7,
   "metadata": {},
   "outputs": [
    {
     "data": {
      "text/plain": [
       "2"
      ]
     },
     "execution_count": 7,
     "metadata": {},
     "output_type": "execute_result"
    }
   ],
   "source": [
    "female_char_count = 0\n",
    "for c in dataset:\n",
    "    sex = c['gender']\n",
    "    if sex == 'female':\n",
    "        female_char_count += 1\n",
    "\n",
    "female_char_count  \n",
    "\n"
   ]
  },
  {
   "cell_type": "markdown",
   "metadata": {},
   "source": [
    "### 5.What is the average height of all characters?\n",
    "\n",
    "Average height of all the character will be the sum of all character heights divided by the number of characters.\n",
    "\n",
    "** Convert the individual character height to float before calculating the average."
   ]
  },
  {
   "cell_type": "code",
   "execution_count": 8,
   "metadata": {},
   "outputs": [
    {
     "data": {
      "text/plain": [
       "169.75"
      ]
     },
     "execution_count": 8,
     "metadata": {},
     "output_type": "execute_result"
    }
   ],
   "source": [
    "heights = []\n",
    "for c in dataset:\n",
    "    height = float(c['height'])\n",
    "    heights.append(height)\n",
    "\n",
    "avg = sum(heights) / len(heights)\n",
    "avg"
   ]
  },
  {
   "cell_type": "markdown",
   "metadata": {},
   "source": [
    "### 6. Find the films directed by George Lucas?\n",
    "\n",
    "Create a set <code>films_set</code> and store all the films directed by 'George Lucas'.\n",
    "\n",
    "Example of expected output:\n",
    "\n",
    "<code>{'The Phantom Menace','Attack of the Clones',...}</code>"
   ]
  },
  {
   "cell_type": "code",
   "execution_count": 9,
   "metadata": {},
   "outputs": [
    {
     "data": {
      "text/plain": [
       "{'A New Hope',\n",
       " 'Attack of the Clones',\n",
       " 'Revenge of the Sith',\n",
       " 'The Phantom Menace'}"
      ]
     },
     "execution_count": 9,
     "metadata": {},
     "output_type": "execute_result"
    }
   ],
   "source": [
    "films_set = set()  # remember: A set doesn't allow dublicates!!\n",
    "for entry in dataset:\n",
    "    for film in entry['films']:\n",
    "        if film['director'] == 'George Lucas':\n",
    "            films_set.add(film['title'])\n",
    "\n",
    "films_set"
   ]
  },
  {
   "cell_type": "markdown",
   "metadata": {},
   "source": [
    "### 7. How many films were directed by George Lucas in total?\n",
    "Count the number of films directed by George Lucas"
   ]
  },
  {
   "cell_type": "code",
   "execution_count": 10,
   "metadata": {},
   "outputs": [
    {
     "data": {
      "text/plain": [
       "4"
      ]
     },
     "execution_count": 10,
     "metadata": {},
     "output_type": "execute_result"
    }
   ],
   "source": [
    "len(films_set)"
   ]
  },
  {
   "cell_type": "markdown",
   "metadata": {},
   "source": [
    "### 8. Provide the name of the character who possesses the highest weight among all the characters\n",
    "\n",
    "Provide the name of the character with the highest weight.\n",
    "\n",
    "There are some characters whose weight is 'unknown', and you have to ignore those characters."
   ]
  },
  {
   "cell_type": "code",
   "execution_count": 11,
   "metadata": {},
   "outputs": [
    {
     "name": "stdout",
     "output_type": "stream",
     "text": [
      "Jabba Desilijic Tiure\n"
     ]
    }
   ],
   "source": [
    "char_weights = {}\n",
    "for entry in dataset:\n",
    "    name = entry['name']\n",
    "    try:\n",
    "        weight = int(entry['mass'])\n",
    "        char_weights[name] = weight\n",
    "    except:\n",
    "        continue\n",
    "\n",
    "\n",
    "top_weight = max(list(char_weights.values()))\n",
    "for char, value in  char_weights.items():\n",
    "    if value == top_weight:\n",
    "        top_name = char\n",
    "\n",
    "print(top_name)"
   ]
  },
  {
   "cell_type": "markdown",
   "metadata": {},
   "source": [
    "### 9. Name of the character that is a dwarf\n",
    "\n",
    "Input the name of the character that is a dwarf. A dwarf is a character whose height is less than 100 cm. If there are multiple dwarfs, input the name of the character that has lowest height."
   ]
  },
  {
   "cell_type": "code",
   "execution_count": 12,
   "metadata": {},
   "outputs": [
    {
     "data": {
      "text/plain": [
       "{'R2-D2': 96, 'R5-D4': 97}"
      ]
     },
     "execution_count": 12,
     "metadata": {},
     "output_type": "execute_result"
    }
   ],
   "source": [
    "dwarfs = {}\n",
    "for entry in dataset:\n",
    "    if int(entry['height']) < 100:\n",
    "        dwarfs[entry['name']] = int(entry['height'])\n",
    "        \n",
    "dwarfs =dict(sorted(dwarfs.items(), key=lambda item: item[1]))\n",
    "dwarfs"
   ]
  },
  {
   "cell_type": "markdown",
   "metadata": {},
   "source": [
    "### 10. Total number of distinct films\n",
    "\n",
    "Input the total number of distinct films."
   ]
  },
  {
   "cell_type": "code",
   "execution_count": 13,
   "metadata": {},
   "outputs": [
    {
     "data": {
      "text/plain": [
       "6"
      ]
     },
     "execution_count": 13,
     "metadata": {},
     "output_type": "execute_result"
    }
   ],
   "source": [
    "films = set()\n",
    "for entry in dataset:\n",
    "    for film in entry['films']:\n",
    "        films.add(film['title'])\n",
    "\n",
    "len(films)"
   ]
  },
  {
   "cell_type": "markdown",
   "metadata": {},
   "source": [
    "## Data Transformation"
   ]
  },
  {
   "cell_type": "markdown",
   "metadata": {},
   "source": [
    "### 11. Films that were produced by more than one person?\n",
    "\n",
    "Create a dictionary <code>films_dict</code> where the film's title will be the key and the list of producers as its values.\n",
    "\n",
    "Example of expected output:\n",
    "\n",
    "<code>{'Black Bird':['Gary Kurtaz','Adult Smith'],\n",
    "'Return of the Jedi': ['Howard G. Kazanjian','George Lucas','Rick McCallum'],\n",
    "  ...\n",
    "}</code>"
   ]
  },
  {
   "cell_type": "code",
   "execution_count": 21,
   "metadata": {},
   "outputs": [
    {
     "data": {
      "text/plain": [
       "{'A New Hope': ['Gary Kurtz', 'Rick McCallum'],\n",
       " 'The Empire Strikes Back': ['Gary Kurtz', 'Rick McCallum'],\n",
       " 'Return of the Jedi': ['Howard G. Kazanjian',\n",
       "  'George Lucas',\n",
       "  'Rick McCallum']}"
      ]
     },
     "execution_count": 21,
     "metadata": {},
     "output_type": "execute_result"
    }
   ],
   "source": [
    "films_dict = {}\n",
    "\n",
    "for character in dataset:\n",
    "    for film in character[\"films\"]:\n",
    "        producer = film[\"producer\"]\n",
    "        if len(producer) > 1:\n",
    "            films_dict[film[\"title\"]] = producer\n",
    "\n",
    "films_dict"
   ]
  },
  {
   "cell_type": "markdown",
   "metadata": {},
   "source": [
    "### 12. Films in chronological order\n",
    "\n",
    "Create a dictionary <code>films_chron</code> where the keys will be the datetime (from the datetime module) of the film and the values will be the titles of the films.\n",
    "\n",
    "Example of expected output:\n",
    "<code>\n",
    "{ \n",
    "   datetime.datetime(1999, 5, 19, 0, 0): 'The Phantom Menace',\n",
    "   datetime.datetime(2002, 5, 16, 0, 0): 'Attack of the Clones',\n",
    " ...\n",
    " }\n",
    " </code>\n",
    " \n",
    "Sort the films by date in ascending order."
   ]
  },
  {
   "cell_type": "code",
   "execution_count": 15,
   "metadata": {},
   "outputs": [],
   "source": [
    "from datetime import datetime\n",
    "def str_to_datetime(date_str):\n",
    "    try:\n",
    "        year = int(date_str[0:4])\n",
    "        month = int(date_str[5:7])\n",
    "        day = int(date_str[-2:])\n",
    "        rel_date = datetime(year=year, month=month, day=day)\n",
    "        return rel_date\n",
    "    except ValueError as e:\n",
    "        print(f\"Error converting date: {e}\")\n",
    "        return None\n"
   ]
  },
  {
   "cell_type": "code",
   "execution_count": 16,
   "metadata": {},
   "outputs": [
    {
     "data": {
      "text/plain": [
       "{datetime.datetime(1977, 5, 25, 0, 0): 'A New Hope',\n",
       " datetime.datetime(1980, 5, 17, 0, 0): 'The Empire Strikes Back',\n",
       " datetime.datetime(1983, 5, 25, 0, 0): 'Return of the Jedi',\n",
       " datetime.datetime(1999, 5, 19, 0, 0): 'The Phantom Menace',\n",
       " datetime.datetime(2002, 5, 16, 0, 0): 'Attack of the Clones',\n",
       " datetime.datetime(2005, 5, 19, 0, 0): 'Revenge of the Sith'}"
      ]
     },
     "execution_count": 16,
     "metadata": {},
     "output_type": "execute_result"
    }
   ],
   "source": [
    "\n",
    "films_chron = {}\n",
    "for entry in dataset:\n",
    "    for film in entry['films']:\n",
    "        title_str = film['title']\n",
    "        rel_date_str = film['release_date']\n",
    "        rel_date = str_to_datetime(rel_date_str)\n",
    "        films_chron[rel_date] = title_str\n",
    "\n",
    "# Sortieren des Dictionaries\n",
    "films_chron = dict(sorted(films_chron.items()))\n",
    "films_chron"
   ]
  },
  {
   "cell_type": "markdown",
   "metadata": {},
   "source": [
    "### 13. Create a list films containing the title of the films\n",
    "\n",
    "Create a list <code>films</code> containing the title of the films sorted in ascending lexicographical order (A>Z). <code>films</code> should contain distinct (or unique) values.\n",
    "\n",
    "Example of expected output:\n",
    "\n",
    "<code>[\n",
    "  \"A New Hope\",\n",
    "  \"Attack of the Clones\",\n",
    "  ...\n",
    "  \"The Phantom Menace\"\n",
    "]</code>"
   ]
  },
  {
   "cell_type": "code",
   "execution_count": 17,
   "metadata": {},
   "outputs": [
    {
     "data": {
      "text/plain": [
       "['A New Hope',\n",
       " 'Attack of the Clones',\n",
       " 'Return of the Jedi',\n",
       " 'Revenge of the Sith',\n",
       " 'The Empire Strikes Back',\n",
       " 'The Phantom Menace']"
      ]
     },
     "execution_count": 17,
     "metadata": {},
     "output_type": "execute_result"
    }
   ],
   "source": [
    "filmsset = set()\n",
    "for entry in dataset:\n",
    "    for film in entry['films']:\n",
    "        title_str =  film['title']\n",
    "        filmsset.add(title_str)\n",
    "films = list(sorted(filmsset))\n",
    "films"
   ]
  },
  {
   "cell_type": "markdown",
   "metadata": {},
   "source": [
    "### 14. Which characters appeared in multiple films?\n",
    "\n",
    "Create a dictionary <code>characters_dict</code> containing those characters that appeared in MORE than one film (ie: at least, 2 films). The dictonary will map the name of the character to a list of all the films they participated in.\n",
    "\n",
    "Example of expected output:\n",
    "\n",
    "<code>{\n",
    "    'Luke Skywalker': ['A New Hope', 'The Empire Strikes Back', 'Return of the Jedi'],\n",
    "    'Han Solo': ['A New Hope', 'The Empire Strikes Back', 'Return of the Jedi'],\n",
    "    'Darth Vader': ['A New Hope', 'The Empire Strikes Back', 'Return of the Jedi', 'Revenge of the Sith'],\n",
    "    ...\n",
    "}</code>"
   ]
  },
  {
   "cell_type": "code",
   "execution_count": 22,
   "metadata": {},
   "outputs": [
    {
     "data": {
      "text/plain": [
       "{'Luke Skywalker': ['A New Hope',\n",
       "  'The Empire Strikes Back',\n",
       "  'Return of the Jedi',\n",
       "  'Revenge of the Sith'],\n",
       " 'C-3PO': ['A New Hope',\n",
       "  'The Empire Strikes Back',\n",
       "  'Return of the Jedi',\n",
       "  'The Phantom Menace',\n",
       "  'Attack of the Clones',\n",
       "  'Revenge of the Sith'],\n",
       " 'R2-D2': ['A New Hope',\n",
       "  'The Empire Strikes Back',\n",
       "  'Return of the Jedi',\n",
       "  'The Phantom Menace',\n",
       "  'Attack of the Clones',\n",
       "  'Revenge of the Sith'],\n",
       " 'Darth Vader': ['A New Hope',\n",
       "  'The Empire Strikes Back',\n",
       "  'Return of the Jedi',\n",
       "  'Revenge of the Sith'],\n",
       " 'Leia Organa': ['A New Hope',\n",
       "  'The Empire Strikes Back',\n",
       "  'Return of the Jedi',\n",
       "  'Revenge of the Sith'],\n",
       " 'Owen Lars': ['A New Hope', 'Attack of the Clones', 'Revenge of the Sith'],\n",
       " 'Beru Whitesun lars': ['A New Hope',\n",
       "  'Attack of the Clones',\n",
       "  'Revenge of the Sith'],\n",
       " 'Obi-Wan Kenobi': ['A New Hope',\n",
       "  'The Empire Strikes Back',\n",
       "  'Return of the Jedi',\n",
       "  'The Phantom Menace',\n",
       "  'Attack of the Clones',\n",
       "  'Revenge of the Sith'],\n",
       " 'Anakin Skywalker': ['The Phantom Menace',\n",
       "  'Attack of the Clones',\n",
       "  'Revenge of the Sith'],\n",
       " 'Wilhuff Tarkin': ['A New Hope', 'Revenge of the Sith'],\n",
       " 'Chewbacca': ['A New Hope',\n",
       "  'The Empire Strikes Back',\n",
       "  'Return of the Jedi',\n",
       "  'Revenge of the Sith'],\n",
       " 'Han Solo': ['A New Hope', 'The Empire Strikes Back', 'Return of the Jedi'],\n",
       " 'Jabba Desilijic Tiure': ['A New Hope',\n",
       "  'Return of the Jedi',\n",
       "  'The Phantom Menace']}"
      ]
     },
     "execution_count": 22,
     "metadata": {},
     "output_type": "execute_result"
    }
   ],
   "source": [
    "characters_dict = {}\n",
    "\n",
    "for character in dataset:\n",
    "    name = character[\"name\"]\n",
    "    if len(character['films']) <= 1:\n",
    "        continue\n",
    "\n",
    "    characters_dict[name] = []\n",
    "    for film in character[\"films\"]:\n",
    "        characters_dict[name].append(film[\"title\"])\n",
    "\n",
    "characters_dict"
   ]
  },
  {
   "cell_type": "markdown",
   "metadata": {},
   "source": [
    "### 15. Films and their director name\n",
    "\n",
    "Create a list <code>films_director</code> where each element will be a tuple containing the film title and the director's name. The list should contain distinct values.\n",
    "\n",
    "Example of expected output:\n",
    "\n",
    "<code>[('A New Hope', 'George Lucas'),\n",
    " ('The Empire Strikes Back', 'Irvin Kershner'),\n",
    " ('Return of the Jedi', 'Richard Marquand'),\n",
    " ('The Phantom Menace', 'George Lucas'),\n",
    " ...\n",
    " ]</code>"
   ]
  },
  {
   "cell_type": "code",
   "execution_count": 20,
   "metadata": {},
   "outputs": [
    {
     "data": {
      "text/plain": [
       "[('A New Hope', 'George Lucas'),\n",
       " ('The Empire Strikes Back', 'Irvin Kershner'),\n",
       " ('Return of the Jedi', 'Richard Marquand'),\n",
       " ('Revenge of the Sith', 'George Lucas'),\n",
       " ('The Phantom Menace', 'George Lucas'),\n",
       " ('Attack of the Clones', 'George Lucas')]"
      ]
     },
     "execution_count": 20,
     "metadata": {},
     "output_type": "execute_result"
    }
   ],
   "source": [
    "films_director = list()\n",
    "for entry in dataset:\n",
    "    for film in entry['films']:\n",
    "        title_str = film['title']\n",
    "        director_str = film['director']\n",
    "        tup = (title_str, director_str)\n",
    "        if tup not in films_director:\n",
    "            films_director.append(tup)\n",
    "\n",
    "films_director"
   ]
  },
  {
   "cell_type": "markdown",
   "metadata": {},
   "source": [
    "## Data Transformation/Aggregation"
   ]
  },
  {
   "cell_type": "markdown",
   "metadata": {},
   "source": [
    "### 16. Characters homeworld and it's size\n",
    "\n",
    "Create a set <code>planets_set</code> which will contain the names and diameters of the planets the characters are from in the form of tuples.\n",
    "\n",
    "Example of expected output:\n",
    "\n",
    "<code>{('Nal Hutta', 12150),\n",
    " ('Rodia', 7549),\n",
    " ('Stewjon', 0),\n",
    " ...\n",
    " }</code>\n"
   ]
  },
  {
   "cell_type": "code",
   "execution_count": 30,
   "metadata": {},
   "outputs": [
    {
     "data": {
      "text/plain": [
       "{('Alderaan', 12500),\n",
       " ('Corellia', 11000),\n",
       " ('Eriadu', 13490),\n",
       " ('Kashyyyk', 12765),\n",
       " ('Naboo', 12120),\n",
       " ('Nal Hutta', 12150),\n",
       " ('Rodia', 7549),\n",
       " ('Stewjon', 0),\n",
       " ('Tatooine', 10465)}"
      ]
     },
     "execution_count": 30,
     "metadata": {},
     "output_type": "execute_result"
    }
   ],
   "source": [
    "planets_set = set()\n",
    "for character in dataset:\n",
    "    for key, value in character['homeworld'].items():\n",
    "        if key == 'name':\n",
    "            planet_name = value\n",
    "        if key == 'diameter':\n",
    "            planet_diameter = int(value)\n",
    "            planets_set.add( (planet_name, planet_diameter) )\n",
    "\n",
    "planets_set"
   ]
  },
  {
   "cell_type": "markdown",
   "metadata": {},
   "source": [
    "### 17. Star Wars species with red eyes\n",
    "\n",
    "Create a set <code>red_eyes_species</code> that contains the names of the species with red eyes.\n",
    "\n",
    "* Here, we are considering the species associated with a character, and not a character itself.\n",
    "* If species has multiple eye colors, and one of them is red, then it should be included in the set.\n",
    "\n",
    "Expected example of output:\n",
    "\n",
    "<code>{'Wookie',...}</code>"
   ]
  },
  {
   "cell_type": "code",
   "execution_count": 39,
   "metadata": {},
   "outputs": [
    {
     "data": {
      "text/plain": [
       "{'Hutt', 'Wookie'}"
      ]
     },
     "execution_count": 39,
     "metadata": {},
     "output_type": "execute_result"
    }
   ],
   "source": [
    "red_eyes_species = set()\n",
    "for character in dataset:\n",
    "    for specie in character['species']:\n",
    "       if 'red' in specie['eye_colors']:\n",
    "           red_eyes_species.add(specie['name'])\n",
    "\n",
    "red_eyes_species"
   ]
  },
  {
   "cell_type": "markdown",
   "metadata": {},
   "source": [
    "### 18. Characters sharing the same skin color\n",
    "\n",
    "Create a dictionary called <code>skin_color_character</code>, which contains keys representing different skin colors and values as lists of names of characters who share the same skin color. The list of names of characters should be unique.\n",
    "\n",
    "Example of expected output:\n",
    "\n",
    "<code>{'fair': ['Luke Skywalker', 'C-3PO', 'R2-D2', 'Leia Organa', 'Owen Lars'],\n",
    " 'gold': ['Darth Vader'],\n",
    " 'white': ['Obi-Wan Kenobi', 'Beru Whitesun lars'],\n",
    " 'light': ['Chewbacca', 'Han Solo', 'Jabba Desilijic Tiure'],\n",
    " 'green': ['Yoda'],\n",
    "  ...\n",
    "}</code>"
   ]
  },
  {
   "cell_type": "code",
   "execution_count": 43,
   "metadata": {},
   "outputs": [
    {
     "data": {
      "text/plain": [
       "{'fair': ['Luke Skywalker',\n",
       "  'Obi-Wan Kenobi',\n",
       "  'Anakin Skywalker',\n",
       "  'Wilhuff Tarkin',\n",
       "  'Han Solo'],\n",
       " 'gold': ['C-3PO'],\n",
       " 'white': ['R2-D2', 'Darth Vader', 'R5-D4'],\n",
       " 'blue': ['R2-D2'],\n",
       " 'light': ['Leia Organa',\n",
       "  'Owen Lars',\n",
       "  'Beru Whitesun lars',\n",
       "  'Biggs Darklighter'],\n",
       " 'red': ['R5-D4'],\n",
       " 'unknown': ['Chewbacca'],\n",
       " 'green': ['Greedo'],\n",
       " 'green-tan': ['Jabba Desilijic Tiure'],\n",
       " 'brown': ['Jabba Desilijic Tiure']}"
      ]
     },
     "execution_count": 43,
     "metadata": {},
     "output_type": "execute_result"
    }
   ],
   "source": [
    "skin_color_character = {}\n",
    "for character in dataset:\n",
    "    for skin_color in character[\"skin_color\"]:\n",
    "        if skin_color not in skin_color_character:\n",
    "            skin_color_character[skin_color] = []\n",
    "        skin_color_character[skin_color].append(character[\"name\"])\n",
    "\n",
    "\n",
    "skin_color_character"
   ]
  },
  {
   "cell_type": "markdown",
   "metadata": {},
   "source": [
    "### 19. Find the characters from the same planet\n",
    "\n",
    "Create a dictionary <code>from_planet</code> where the planets will be keys and the values will be the set of the character's names.\n",
    "\n",
    "Example of expected output:\n",
    "\n",
    "<code>{'Eriadu': {'Wilhuff Tarkin'},\n",
    " 'Kashyyyk': {'Chewbacca'},\n",
    " 'Corellia': {'Han Solo'},\n",
    " 'Rodia': {'Greedo'},\n",
    " 'Nal Hutta': {'Jabba Desilijic Tiure'}}</code>"
   ]
  },
  {
   "cell_type": "code",
   "execution_count": 48,
   "metadata": {},
   "outputs": [
    {
     "data": {
      "text/plain": [
       "{'Tatooine': {'Luke Skywalker'},\n",
       " 'Naboo': {'R2-D2'},\n",
       " 'Alderaan': {'Leia Organa'},\n",
       " 'Stewjon': {'Obi-Wan Kenobi'},\n",
       " 'Eriadu': {'Wilhuff Tarkin'},\n",
       " 'Kashyyyk': {'Chewbacca'},\n",
       " 'Corellia': {'Han Solo'},\n",
       " 'Rodia': {'Greedo'},\n",
       " 'Nal Hutta': {'Jabba Desilijic Tiure'}}"
      ]
     },
     "execution_count": 48,
     "metadata": {},
     "output_type": "execute_result"
    }
   ],
   "source": [
    "from_planet = {}\n",
    "for character in dataset:\n",
    "    planet = character['homeworld']\n",
    "    name = character['name']\n",
    "    if planet['name'] not in from_planet:\n",
    "        from_planet[planet['name']] = {name}\n",
    "    \n",
    "from_planet"
   ]
  },
  {
   "cell_type": "markdown",
   "metadata": {},
   "source": [
    "### 20. Names of characters along with the frequency of their appearances in each film.\n",
    "\n",
    "Create a dictionary <code>character_film_count</code> where the character's name will be the key, and the count of films they appeared in will be the value. There should be no duplicate characters in the dictionary.\n",
    "\n",
    "Example of expected output:\n",
    "\n",
    "<code>{\n",
    "    'Luke Skywalker': 4,\n",
    "    'Darth Vader': 3,\n",
    "    'Princess Leia': 3,\n",
    "    ...\n",
    "}</code>"
   ]
  },
  {
   "cell_type": "code",
   "execution_count": 50,
   "metadata": {},
   "outputs": [
    {
     "data": {
      "text/plain": [
       "{'Luke Skywalker': 4,\n",
       " 'C-3PO': 6,\n",
       " 'R2-D2': 6,\n",
       " 'Darth Vader': 4,\n",
       " 'Leia Organa': 4,\n",
       " 'Owen Lars': 3,\n",
       " 'Beru Whitesun lars': 3,\n",
       " 'R5-D4': 1,\n",
       " 'Biggs Darklighter': 1,\n",
       " 'Obi-Wan Kenobi': 6,\n",
       " 'Anakin Skywalker': 3,\n",
       " 'Wilhuff Tarkin': 2,\n",
       " 'Chewbacca': 4,\n",
       " 'Han Solo': 3,\n",
       " 'Greedo': 1,\n",
       " 'Jabba Desilijic Tiure': 3}"
      ]
     },
     "execution_count": 50,
     "metadata": {},
     "output_type": "execute_result"
    }
   ],
   "source": [
    "character_film_count = {}\n",
    "for character in dataset:\n",
    "    character_film_count[character['name']] = len(character['films'])\n",
    "\n",
    "character_film_count"
   ]
  },
  {
   "cell_type": "markdown",
   "metadata": {},
   "source": [
    "### 21. Which characters have appeared in all the films?\n",
    "\n",
    "Create a list <code>characters_appeared_in_all_films</code> that contains the names of characters who appeared in all the films.\n",
    "\n",
    "Example of expected output:\n",
    "\n",
    "<code>['Luke Skywalker', 'Darth Vader']</code>"
   ]
  },
  {
   "cell_type": "code",
   "execution_count": 51,
   "metadata": {},
   "outputs": [
    {
     "data": {
      "text/plain": [
       "['C-3PO', 'R2-D2', 'Obi-Wan Kenobi']"
      ]
     },
     "execution_count": 51,
     "metadata": {},
     "output_type": "execute_result"
    }
   ],
   "source": [
    "all_films = set()\n",
    "\n",
    "for character in dataset:\n",
    "    for film in character['films']:\n",
    "        all_films.add(film['title'])\n",
    "\n",
    "characters_appeared_in_all_films = []\n",
    "for character in dataset:\n",
    "    character_films = set()\n",
    "    for film in character['films']:\n",
    "        character_films.add(film['title'])\n",
    "    \n",
    "    if character_films == all_films:\n",
    "        characters_appeared_in_all_films.append(character['name'])\n",
    "\n",
    "characters_appeared_in_all_films"
   ]
  },
  {
   "cell_type": "markdown",
   "metadata": {},
   "source": [
    "### 22. Normalize the data to remove any duplicates.\n",
    "\n",
    "There are some characters who are from the same planet, and we have to consider the planet only once. Create a dictionary <code>planet_characters</code> where the keys will be the planet names and the values will contains the diameter, population and the list of characters from that planet. The characters list should not contain any duplicates and should be sorted in ascending order.\n",
    "\n",
    "Example of expected output:\n",
    "\n",
    "<code>{'Naboo': {'diameter': '12120',\n",
    "  'population': '4500000000',\n",
    "  'characters': ['R2-D2']},\n",
    " 'Alderaan': {'diameter': '12500',\n",
    "  'population': '2000000000',\n",
    "  'characters': ['Leia Organa']},\n",
    " 'Stewjon': {'diameter': '0',\n",
    "  'population': 'unknown',\n",
    "  'characters': ['Obi-Wan Kenobi']},\n",
    " ...\n",
    " }</code>"
   ]
  },
  {
   "cell_type": "code",
   "execution_count": 58,
   "metadata": {},
   "outputs": [
    {
     "data": {
      "text/plain": [
       "{'Tatooine': {'diameter': '10465',\n",
       "  'population': '200000',\n",
       "  'characters': ['Anakin Skywalker',\n",
       "   'Beru Whitesun lars',\n",
       "   'Biggs Darklighter',\n",
       "   'C-3PO',\n",
       "   'Darth Vader',\n",
       "   'Luke Skywalker',\n",
       "   'Owen Lars',\n",
       "   'R5-D4']},\n",
       " 'Naboo': {'diameter': '12120',\n",
       "  'population': '4500000000',\n",
       "  'characters': ['R2-D2']},\n",
       " 'Alderaan': {'diameter': '12500',\n",
       "  'population': '2000000000',\n",
       "  'characters': ['Leia Organa']},\n",
       " 'Stewjon': {'diameter': '0',\n",
       "  'population': 'unknown',\n",
       "  'characters': ['Obi-Wan Kenobi']},\n",
       " 'Eriadu': {'diameter': '13490',\n",
       "  'population': '22000000000',\n",
       "  'characters': ['Wilhuff Tarkin']},\n",
       " 'Kashyyyk': {'diameter': '12765',\n",
       "  'population': '45000000',\n",
       "  'characters': ['Chewbacca']},\n",
       " 'Corellia': {'diameter': '11000',\n",
       "  'population': '3000000000',\n",
       "  'characters': ['Han Solo']},\n",
       " 'Rodia': {'diameter': '7549',\n",
       "  'population': '1300000000',\n",
       "  'characters': ['Greedo']},\n",
       " 'Nal Hutta': {'diameter': '12150',\n",
       "  'population': '7000000000',\n",
       "  'characters': ['Jabba Desilijic Tiure']}}"
      ]
     },
     "execution_count": 58,
     "metadata": {},
     "output_type": "execute_result"
    }
   ],
   "source": [
    "planet_characters = {}\n",
    "\n",
    "for character in dataset:\n",
    "    \n",
    "    if character['homeworld']['name'] not in planet_characters:\n",
    "        planet_characters[character['homeworld']['name']] = {'diameter' : character['homeworld']['diameter'],\n",
    "                                                             'population': character['homeworld']['population'],\n",
    "                                                             'characters' : [character['name']]}\n",
    "    else:\n",
    "        planet_characters[character['homeworld']['name']]['characters'].append(character['name'])\n",
    "\n",
    "for planet in planet_characters:\n",
    "    planet_characters[planet]['characters'] = sorted(set(planet_characters[planet]['characters']))\n",
    "\n",
    "planet_characters"
   ]
  },
  {
   "cell_type": "markdown",
   "metadata": {},
   "source": [
    "### 23. What is the total population of all the homeworlds combined?\n",
    "\n",
    "Input the total population of all the homeworlds combined. If the population is unknown, ignore that planet."
   ]
  },
  {
   "cell_type": "code",
   "execution_count": 64,
   "metadata": {},
   "outputs": [
    {
     "name": "stdout",
     "output_type": "stream",
     "text": [
      "39845200000\n"
     ]
    }
   ],
   "source": [
    "pops = []\n",
    "for planet, values in planet_characters.items():\n",
    "    try:\n",
    "        pop = int(values['population'])\n",
    "        pops.append(pop)\n",
    "    except:\n",
    "        continue\n",
    "\n",
    "print(sum(pops))\n"
   ]
  },
  {
   "cell_type": "markdown",
   "metadata": {},
   "source": [
    "### 24. Films and Their Producers\n",
    "\n",
    "Create a dictionary films_producers where the keys will be the film titles and the values will be the sets of producers."
   ]
  },
  {
   "cell_type": "code",
   "execution_count": 66,
   "metadata": {},
   "outputs": [
    {
     "data": {
      "text/plain": [
       "{'A New Hope': {'Gary Kurtz', 'Rick McCallum'},\n",
       " 'The Empire Strikes Back': {'Gary Kurtz', 'Rick McCallum'},\n",
       " 'Return of the Jedi': {'George Lucas',\n",
       "  'Howard G. Kazanjian',\n",
       "  'Rick McCallum'},\n",
       " 'Revenge of the Sith': {'Rick McCallum'},\n",
       " 'The Phantom Menace': {'Rick McCallum'},\n",
       " 'Attack of the Clones': {'Rick McCallum'}}"
      ]
     },
     "execution_count": 66,
     "metadata": {},
     "output_type": "execute_result"
    }
   ],
   "source": [
    "films_producers = {}\n",
    "for character in dataset:\n",
    "    for film in character['films']:\n",
    "        for producer in film['producer']:\n",
    "            if film['title'] not in films_producers.keys():\n",
    "                producer_set = set()\n",
    "                producer_set.add(producer)\n",
    "                films_producers[film['title']] = producer_set\n",
    "            else:\n",
    "                films_producers[film['title']].add(producer)\n",
    "\n",
    "films_producers"
   ]
  },
  {
   "cell_type": "markdown",
   "metadata": {},
   "source": [
    "### 25. Height and mass of each character\n",
    "\n",
    "Create two dictionaries male_height_mass and female_height_mass where the keys will be the names of the characters and the values will be the tuple of height and mass of the characters. If the height or mass of a character is unknown, take it as 0.\n",
    "\n",
    "There are some characters whose gender is None and other than male or female. You have to ignore those characters.\n",
    "\n",
    "Convert the height and mass to int before adding them to the dictionary."
   ]
  },
  {
   "cell_type": "code",
   "execution_count": null,
   "metadata": {},
   "outputs": [],
   "source": [
    "male_height_mass = {}\n",
    "female_height_mass = {}\n",
    "\n",
    "for character in dataset:\n",
    "    name = character['name']\n",
    "    gender = character['gender']\n",
    "    try:\n",
    "        height = int(character['height'])\n",
    "    except ValueError:\n",
    "        height = 0\n",
    "    try:\n",
    "        mass = int(character['mass'])\n",
    "    except ValueError:\n",
    "        mass = 0\n",
    "    if gender == \"male\":\n",
    "        male_height_mass[name] = (height, mass)\n",
    "    elif gender == \"female\":\n",
    "        female_height_mass[name] = (height, mass)\n",
    "    else:\n",
    "        continue\n"
   ]
  }
 ],
 "metadata": {
  "kernelspec": {
   "display_name": "Python 3",
   "language": "python",
   "name": "python3"
  },
  "language_info": {
   "codemirror_mode": {
    "name": "ipython",
    "version": 3
   },
   "file_extension": ".py",
   "mimetype": "text/x-python",
   "name": "python",
   "nbconvert_exporter": "python",
   "pygments_lexer": "ipython3",
   "version": "3.11.2"
  }
 },
 "nbformat": 4,
 "nbformat_minor": 2
}
