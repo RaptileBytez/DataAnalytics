{
 "cells": [
  {
   "cell_type": "markdown",
   "metadata": {},
   "source": [
    "# Practice DataFrame Mutations using Airbnb Data"
   ]
  },
  {
   "cell_type": "markdown",
   "metadata": {},
   "source": [
    "## Introduction"
   ]
  },
  {
   "cell_type": "markdown",
   "metadata": {},
   "source": [
    "Welcome to the Pandas DataFrame Mutations Lab: Exploring Airbnb Listings!\n",
    "\n",
    "In this coding lab, you will learn creating new columns, deleting rows ad columns, modifying dataframe structure, add new rows, and use of inplace parameter. We will be working with the Airbnb Listings dataset, which contains information about various Airbnb listings in US States. This dataset will serve as the foundation for our exploration and learning journey."
   ]
  },
  {
   "cell_type": "markdown",
   "metadata": {},
   "source": [
    "### Dataset Description:\n",
    "\n",
    "The Airbnb Listings dataset provides valuable insights into the world of short-term vacation rentals. It includes details such as the listing ID, name, host ID, host name, neighborhood, geographical coordinates, room type, pricing information, minimum nights required, and various other attributes that define each listing. By leveraging this dataset, we can extract meaningful information, uncover patterns, and gain insights into the Airbnb market in US States.\n",
    "\n",
    "By working through this coding lab, you will develop a solid understanding of pandas and gain hands-on experience in performing data manipulation, analysis, and transformation tasks. These skills will be valuable in various data-driven domains, from business analytics to Data Science.\n",
    "\n",
    "Now, it's time to roll up your sleeves, fire up your Jupyter notebooks, and let's embark on this exciting journey of exploring the Airbnb Listings dataset using pandas!\n",
    "\n",
    "> IMPORTANT NOTE: Please make sure to complete the activities in the order they are presented, as some activities depend on the results of previous activities. If you encounter difficulties, you can refer to the solution code provided for each activity and also attempt to run all the activities again from the beginning before reporting an issue."
   ]
  },
  {
   "cell_type": "code",
   "execution_count": 1,
   "metadata": {},
   "outputs": [],
   "source": [
    "import pandas as pd \n",
    "path_to_csv = \"../../data/AB_US_2023.csv\""
   ]
  },
  {
   "cell_type": "code",
   "execution_count": 4,
   "metadata": {},
   "outputs": [
    {
     "data": {
      "text/html": [
       "<div>\n",
       "<style scoped>\n",
       "    .dataframe tbody tr th:only-of-type {\n",
       "        vertical-align: middle;\n",
       "    }\n",
       "\n",
       "    .dataframe tbody tr th {\n",
       "        vertical-align: top;\n",
       "    }\n",
       "\n",
       "    .dataframe thead th {\n",
       "        text-align: right;\n",
       "    }\n",
       "</style>\n",
       "<table border=\"1\" class=\"dataframe\">\n",
       "  <thead>\n",
       "    <tr style=\"text-align: right;\">\n",
       "      <th></th>\n",
       "      <th>id</th>\n",
       "      <th>name</th>\n",
       "      <th>host_id</th>\n",
       "      <th>host_name</th>\n",
       "      <th>neighbourhood_group</th>\n",
       "      <th>neighbourhood</th>\n",
       "      <th>latitude</th>\n",
       "      <th>longitude</th>\n",
       "      <th>room_type</th>\n",
       "      <th>price</th>\n",
       "      <th>minimum_nights</th>\n",
       "      <th>number_of_reviews</th>\n",
       "      <th>last_review</th>\n",
       "      <th>reviews_per_month</th>\n",
       "      <th>calculated_host_listings_count</th>\n",
       "      <th>availability_365</th>\n",
       "      <th>number_of_reviews_ltm</th>\n",
       "      <th>city</th>\n",
       "    </tr>\n",
       "  </thead>\n",
       "  <tbody>\n",
       "    <tr>\n",
       "      <th>0</th>\n",
       "      <td>958</td>\n",
       "      <td>Bright, Modern Garden Unit - 1BR/1BTH</td>\n",
       "      <td>1169</td>\n",
       "      <td>Holly</td>\n",
       "      <td>NaN</td>\n",
       "      <td>Western Addition</td>\n",
       "      <td>37.77028</td>\n",
       "      <td>-122.43317</td>\n",
       "      <td>Entire home/apt</td>\n",
       "      <td>202</td>\n",
       "      <td>2</td>\n",
       "      <td>383</td>\n",
       "      <td>2023-02-19</td>\n",
       "      <td>2.31</td>\n",
       "      <td>1</td>\n",
       "      <td>128</td>\n",
       "      <td>59</td>\n",
       "      <td>San Francisco</td>\n",
       "    </tr>\n",
       "    <tr>\n",
       "      <th>1</th>\n",
       "      <td>5858</td>\n",
       "      <td>Creative Sanctuary</td>\n",
       "      <td>8904</td>\n",
       "      <td>Philip And Tania</td>\n",
       "      <td>NaN</td>\n",
       "      <td>Bernal Heights</td>\n",
       "      <td>37.74474</td>\n",
       "      <td>-122.42089</td>\n",
       "      <td>Entire home/apt</td>\n",
       "      <td>235</td>\n",
       "      <td>30</td>\n",
       "      <td>111</td>\n",
       "      <td>2017-08-06</td>\n",
       "      <td>0.66</td>\n",
       "      <td>1</td>\n",
       "      <td>365</td>\n",
       "      <td>0</td>\n",
       "      <td>San Francisco</td>\n",
       "    </tr>\n",
       "    <tr>\n",
       "      <th>2</th>\n",
       "      <td>8142</td>\n",
       "      <td>Friendly Room Apt. Style -UCSF/USF - San Franc...</td>\n",
       "      <td>21994</td>\n",
       "      <td>Aaron</td>\n",
       "      <td>NaN</td>\n",
       "      <td>Haight Ashbury</td>\n",
       "      <td>37.76555</td>\n",
       "      <td>-122.45213</td>\n",
       "      <td>Private room</td>\n",
       "      <td>56</td>\n",
       "      <td>32</td>\n",
       "      <td>9</td>\n",
       "      <td>2022-10-27</td>\n",
       "      <td>0.09</td>\n",
       "      <td>13</td>\n",
       "      <td>365</td>\n",
       "      <td>1</td>\n",
       "      <td>San Francisco</td>\n",
       "    </tr>\n",
       "    <tr>\n",
       "      <th>3</th>\n",
       "      <td>8339</td>\n",
       "      <td>Historic Alamo Square Victorian</td>\n",
       "      <td>24215</td>\n",
       "      <td>Rosy</td>\n",
       "      <td>NaN</td>\n",
       "      <td>Western Addition</td>\n",
       "      <td>37.77564</td>\n",
       "      <td>-122.43642</td>\n",
       "      <td>Entire home/apt</td>\n",
       "      <td>575</td>\n",
       "      <td>9</td>\n",
       "      <td>28</td>\n",
       "      <td>2019-06-28</td>\n",
       "      <td>0.17</td>\n",
       "      <td>2</td>\n",
       "      <td>365</td>\n",
       "      <td>0</td>\n",
       "      <td>San Francisco</td>\n",
       "    </tr>\n",
       "    <tr>\n",
       "      <th>4</th>\n",
       "      <td>8739</td>\n",
       "      <td>Mission Sunshine, with Private Bath</td>\n",
       "      <td>7149</td>\n",
       "      <td>Ivan &amp; Wendy</td>\n",
       "      <td>NaN</td>\n",
       "      <td>Mission</td>\n",
       "      <td>37.76030</td>\n",
       "      <td>-122.42197</td>\n",
       "      <td>Private room</td>\n",
       "      <td>110</td>\n",
       "      <td>1</td>\n",
       "      <td>770</td>\n",
       "      <td>2023-02-25</td>\n",
       "      <td>4.65</td>\n",
       "      <td>2</td>\n",
       "      <td>159</td>\n",
       "      <td>34</td>\n",
       "      <td>San Francisco</td>\n",
       "    </tr>\n",
       "  </tbody>\n",
       "</table>\n",
       "</div>"
      ],
      "text/plain": [
       "     id                                               name  host_id  \\\n",
       "0   958              Bright, Modern Garden Unit - 1BR/1BTH     1169   \n",
       "1  5858                                 Creative Sanctuary     8904   \n",
       "2  8142  Friendly Room Apt. Style -UCSF/USF - San Franc...    21994   \n",
       "3  8339                    Historic Alamo Square Victorian    24215   \n",
       "4  8739                Mission Sunshine, with Private Bath     7149   \n",
       "\n",
       "          host_name neighbourhood_group     neighbourhood  latitude  \\\n",
       "0             Holly                 NaN  Western Addition  37.77028   \n",
       "1  Philip And Tania                 NaN    Bernal Heights  37.74474   \n",
       "2             Aaron                 NaN    Haight Ashbury  37.76555   \n",
       "3              Rosy                 NaN  Western Addition  37.77564   \n",
       "4      Ivan & Wendy                 NaN           Mission  37.76030   \n",
       "\n",
       "   longitude        room_type  price  minimum_nights  number_of_reviews  \\\n",
       "0 -122.43317  Entire home/apt    202               2                383   \n",
       "1 -122.42089  Entire home/apt    235              30                111   \n",
       "2 -122.45213     Private room     56              32                  9   \n",
       "3 -122.43642  Entire home/apt    575               9                 28   \n",
       "4 -122.42197     Private room    110               1                770   \n",
       "\n",
       "  last_review  reviews_per_month  calculated_host_listings_count  \\\n",
       "0  2023-02-19               2.31                               1   \n",
       "1  2017-08-06               0.66                               1   \n",
       "2  2022-10-27               0.09                              13   \n",
       "3  2019-06-28               0.17                               2   \n",
       "4  2023-02-25               4.65                               2   \n",
       "\n",
       "   availability_365  number_of_reviews_ltm           city  \n",
       "0               128                     59  San Francisco  \n",
       "1               365                      0  San Francisco  \n",
       "2               365                      1  San Francisco  \n",
       "3               365                      0  San Francisco  \n",
       "4               159                     34  San Francisco  "
      ]
     },
     "execution_count": 4,
     "metadata": {},
     "output_type": "execute_result"
    }
   ],
   "source": [
    "df = pd.read_csv(path_to_csv, low_memory=False, parse_dates=['last_review'])\n",
    "df.head()"
   ]
  },
  {
   "cell_type": "code",
   "execution_count": 5,
   "metadata": {},
   "outputs": [
    {
     "data": {
      "text/plain": [
       "Index(['id', 'name', 'host_id', 'host_name', 'neighbourhood_group',\n",
       "       'neighbourhood', 'latitude', 'longitude', 'room_type', 'price',\n",
       "       'minimum_nights', 'number_of_reviews', 'last_review',\n",
       "       'reviews_per_month', 'calculated_host_listings_count',\n",
       "       'availability_365', 'number_of_reviews_ltm', 'city'],\n",
       "      dtype='object')"
      ]
     },
     "execution_count": 5,
     "metadata": {},
     "output_type": "execute_result"
    }
   ],
   "source": [
    "df.columns"
   ]
  },
  {
   "cell_type": "code",
   "execution_count": 6,
   "metadata": {},
   "outputs": [
    {
     "data": {
      "text/plain": [
       "(232147, 18)"
      ]
     },
     "execution_count": 6,
     "metadata": {},
     "output_type": "execute_result"
    }
   ],
   "source": [
    "df.shape"
   ]
  },
  {
   "cell_type": "code",
   "execution_count": 7,
   "metadata": {},
   "outputs": [
    {
     "name": "stdout",
     "output_type": "stream",
     "text": [
      "<class 'pandas.core.frame.DataFrame'>\n",
      "RangeIndex: 232147 entries, 0 to 232146\n",
      "Data columns (total 18 columns):\n",
      " #   Column                          Non-Null Count   Dtype         \n",
      "---  ------                          --------------   -----         \n",
      " 0   id                              232147 non-null  int64         \n",
      " 1   name                            232131 non-null  object        \n",
      " 2   host_id                         232147 non-null  int64         \n",
      " 3   host_name                       232134 non-null  object        \n",
      " 4   neighbourhood_group             96500 non-null   object        \n",
      " 5   neighbourhood                   232147 non-null  object        \n",
      " 6   latitude                        232147 non-null  float64       \n",
      " 7   longitude                       232147 non-null  float64       \n",
      " 8   room_type                       232147 non-null  object        \n",
      " 9   price                           232147 non-null  int64         \n",
      " 10  minimum_nights                  232147 non-null  int64         \n",
      " 11  number_of_reviews               232147 non-null  int64         \n",
      " 12  last_review                     183062 non-null  datetime64[ns]\n",
      " 13  reviews_per_month               183062 non-null  float64       \n",
      " 14  calculated_host_listings_count  232147 non-null  int64         \n",
      " 15  availability_365                232147 non-null  int64         \n",
      " 16  number_of_reviews_ltm           232147 non-null  int64         \n",
      " 17  city                            232147 non-null  object        \n",
      "dtypes: datetime64[ns](1), float64(3), int64(8), object(6)\n",
      "memory usage: 31.9+ MB\n"
     ]
    }
   ],
   "source": [
    "df.info()"
   ]
  },
  {
   "cell_type": "code",
   "execution_count": 8,
   "metadata": {},
   "outputs": [
    {
     "data": {
      "text/html": [
       "<div>\n",
       "<style scoped>\n",
       "    .dataframe tbody tr th:only-of-type {\n",
       "        vertical-align: middle;\n",
       "    }\n",
       "\n",
       "    .dataframe tbody tr th {\n",
       "        vertical-align: top;\n",
       "    }\n",
       "\n",
       "    .dataframe thead th {\n",
       "        text-align: right;\n",
       "    }\n",
       "</style>\n",
       "<table border=\"1\" class=\"dataframe\">\n",
       "  <thead>\n",
       "    <tr style=\"text-align: right;\">\n",
       "      <th></th>\n",
       "      <th>id</th>\n",
       "      <th>host_id</th>\n",
       "      <th>latitude</th>\n",
       "      <th>longitude</th>\n",
       "      <th>price</th>\n",
       "      <th>minimum_nights</th>\n",
       "      <th>number_of_reviews</th>\n",
       "      <th>reviews_per_month</th>\n",
       "      <th>calculated_host_listings_count</th>\n",
       "      <th>availability_365</th>\n",
       "      <th>number_of_reviews_ltm</th>\n",
       "    </tr>\n",
       "  </thead>\n",
       "  <tbody>\n",
       "    <tr>\n",
       "      <th>count</th>\n",
       "      <td>2.321470e+05</td>\n",
       "      <td>2.321470e+05</td>\n",
       "      <td>232147.000000</td>\n",
       "      <td>232147.000000</td>\n",
       "      <td>232147.000000</td>\n",
       "      <td>232147.000000</td>\n",
       "      <td>232147.000000</td>\n",
       "      <td>183062.000000</td>\n",
       "      <td>232147.000000</td>\n",
       "      <td>232147.000000</td>\n",
       "      <td>232147.000000</td>\n",
       "    </tr>\n",
       "    <tr>\n",
       "      <th>mean</th>\n",
       "      <td>2.584580e+17</td>\n",
       "      <td>1.582248e+08</td>\n",
       "      <td>36.610585</td>\n",
       "      <td>-98.301436</td>\n",
       "      <td>259.468001</td>\n",
       "      <td>13.495867</td>\n",
       "      <td>40.915230</td>\n",
       "      <td>1.638348</td>\n",
       "      <td>29.879055</td>\n",
       "      <td>180.985686</td>\n",
       "      <td>11.689701</td>\n",
       "    </tr>\n",
       "    <tr>\n",
       "      <th>std</th>\n",
       "      <td>3.465985e+17</td>\n",
       "      <td>1.587164e+08</td>\n",
       "      <td>5.126523</td>\n",
       "      <td>19.706929</td>\n",
       "      <td>1024.645918</td>\n",
       "      <td>27.920631</td>\n",
       "      <td>80.649152</td>\n",
       "      <td>1.910812</td>\n",
       "      <td>106.013665</td>\n",
       "      <td>134.715299</td>\n",
       "      <td>20.599954</td>\n",
       "    </tr>\n",
       "    <tr>\n",
       "      <th>min</th>\n",
       "      <td>6.000000e+00</td>\n",
       "      <td>2.300000e+01</td>\n",
       "      <td>25.957323</td>\n",
       "      <td>-123.089130</td>\n",
       "      <td>0.000000</td>\n",
       "      <td>1.000000</td>\n",
       "      <td>0.000000</td>\n",
       "      <td>0.010000</td>\n",
       "      <td>1.000000</td>\n",
       "      <td>0.000000</td>\n",
       "      <td>0.000000</td>\n",
       "    </tr>\n",
       "    <tr>\n",
       "      <th>25%</th>\n",
       "      <td>2.638896e+07</td>\n",
       "      <td>2.299242e+07</td>\n",
       "      <td>33.976225</td>\n",
       "      <td>-118.315111</td>\n",
       "      <td>91.000000</td>\n",
       "      <td>2.000000</td>\n",
       "      <td>1.000000</td>\n",
       "      <td>0.310000</td>\n",
       "      <td>1.000000</td>\n",
       "      <td>52.000000</td>\n",
       "      <td>0.000000</td>\n",
       "    </tr>\n",
       "    <tr>\n",
       "      <th>50%</th>\n",
       "      <td>4.896307e+07</td>\n",
       "      <td>1.005783e+08</td>\n",
       "      <td>36.190556</td>\n",
       "      <td>-97.727670</td>\n",
       "      <td>149.000000</td>\n",
       "      <td>3.000000</td>\n",
       "      <td>9.000000</td>\n",
       "      <td>1.000000</td>\n",
       "      <td>2.000000</td>\n",
       "      <td>175.000000</td>\n",
       "      <td>3.000000</td>\n",
       "    </tr>\n",
       "    <tr>\n",
       "      <th>75%</th>\n",
       "      <td>6.633014e+17</td>\n",
       "      <td>2.686930e+08</td>\n",
       "      <td>40.717440</td>\n",
       "      <td>-77.026222</td>\n",
       "      <td>250.000000</td>\n",
       "      <td>30.000000</td>\n",
       "      <td>43.000000</td>\n",
       "      <td>2.420000</td>\n",
       "      <td>10.000000</td>\n",
       "      <td>321.000000</td>\n",
       "      <td>16.000000</td>\n",
       "    </tr>\n",
       "    <tr>\n",
       "      <th>max</th>\n",
       "      <td>8.581014e+17</td>\n",
       "      <td>5.069384e+08</td>\n",
       "      <td>47.734010</td>\n",
       "      <td>-70.996000</td>\n",
       "      <td>100000.000000</td>\n",
       "      <td>1250.000000</td>\n",
       "      <td>3091.000000</td>\n",
       "      <td>101.420000</td>\n",
       "      <td>1003.000000</td>\n",
       "      <td>365.000000</td>\n",
       "      <td>1314.000000</td>\n",
       "    </tr>\n",
       "  </tbody>\n",
       "</table>\n",
       "</div>"
      ],
      "text/plain": [
       "                 id       host_id       latitude      longitude  \\\n",
       "count  2.321470e+05  2.321470e+05  232147.000000  232147.000000   \n",
       "mean   2.584580e+17  1.582248e+08      36.610585     -98.301436   \n",
       "std    3.465985e+17  1.587164e+08       5.126523      19.706929   \n",
       "min    6.000000e+00  2.300000e+01      25.957323    -123.089130   \n",
       "25%    2.638896e+07  2.299242e+07      33.976225    -118.315111   \n",
       "50%    4.896307e+07  1.005783e+08      36.190556     -97.727670   \n",
       "75%    6.633014e+17  2.686930e+08      40.717440     -77.026222   \n",
       "max    8.581014e+17  5.069384e+08      47.734010     -70.996000   \n",
       "\n",
       "               price  minimum_nights  number_of_reviews  reviews_per_month  \\\n",
       "count  232147.000000   232147.000000      232147.000000      183062.000000   \n",
       "mean      259.468001       13.495867          40.915230           1.638348   \n",
       "std      1024.645918       27.920631          80.649152           1.910812   \n",
       "min         0.000000        1.000000           0.000000           0.010000   \n",
       "25%        91.000000        2.000000           1.000000           0.310000   \n",
       "50%       149.000000        3.000000           9.000000           1.000000   \n",
       "75%       250.000000       30.000000          43.000000           2.420000   \n",
       "max    100000.000000     1250.000000        3091.000000         101.420000   \n",
       "\n",
       "       calculated_host_listings_count  availability_365  number_of_reviews_ltm  \n",
       "count                   232147.000000     232147.000000          232147.000000  \n",
       "mean                        29.879055        180.985686              11.689701  \n",
       "std                        106.013665        134.715299              20.599954  \n",
       "min                          1.000000          0.000000               0.000000  \n",
       "25%                          1.000000         52.000000               0.000000  \n",
       "50%                          2.000000        175.000000               3.000000  \n",
       "75%                         10.000000        321.000000              16.000000  \n",
       "max                       1003.000000        365.000000            1314.000000  "
      ]
     },
     "execution_count": 8,
     "metadata": {},
     "output_type": "execute_result"
    }
   ],
   "source": [
    "df.describe()"
   ]
  },
  {
   "cell_type": "code",
   "execution_count": 10,
   "metadata": {},
   "outputs": [
    {
     "data": {
      "text/plain": [
       "id                                     0\n",
       "name                                  16\n",
       "host_id                                0\n",
       "host_name                             13\n",
       "neighbourhood_group               135647\n",
       "neighbourhood                          0\n",
       "latitude                               0\n",
       "longitude                              0\n",
       "room_type                              0\n",
       "price                                  0\n",
       "minimum_nights                         0\n",
       "number_of_reviews                      0\n",
       "last_review                        49085\n",
       "reviews_per_month                  49085\n",
       "calculated_host_listings_count         0\n",
       "availability_365                       0\n",
       "number_of_reviews_ltm                  0\n",
       "city                                   0\n",
       "dtype: int64"
      ]
     },
     "execution_count": 10,
     "metadata": {},
     "output_type": "execute_result"
    }
   ],
   "source": [
    "df.isnull().sum()"
   ]
  },
  {
   "cell_type": "markdown",
   "metadata": {},
   "source": [
    "## Activities"
   ]
  },
  {
   "cell_type": "markdown",
   "metadata": {},
   "source": [
    "### 1. Create a New Column <code>price_per_night</code>\n",
    "\n",
    "Create a new column called <code>price_per_night</code> that calculates the price per night for each Airbnb listing."
   ]
  },
  {
   "cell_type": "code",
   "execution_count": 11,
   "metadata": {},
   "outputs": [],
   "source": [
    "df['price_per_night'] = df['price'] / df['minimum_nights']"
   ]
  },
  {
   "cell_type": "markdown",
   "metadata": {},
   "source": [
    "### 2. Delete all rows where the price is greater than $500\n",
    "\n",
    "> Modify the original DataFrame df."
   ]
  },
  {
   "cell_type": "code",
   "execution_count": 15,
   "metadata": {},
   "outputs": [],
   "source": [
    "df.drop(df.loc[df['price'] > 500].index, inplace=True)"
   ]
  },
  {
   "cell_type": "markdown",
   "metadata": {},
   "source": [
    "### 3. Delete the <code>host_name</code> and <code>neighbourhood_group</code> columns from the DataFrame df\n",
    "\n",
    "> Modify the original DataFrame df."
   ]
  },
  {
   "cell_type": "code",
   "execution_count": 16,
   "metadata": {},
   "outputs": [],
   "source": [
    "df.drop(['neighbourhood_group', 'host_name'], axis=1, inplace=True)"
   ]
  },
  {
   "cell_type": "markdown",
   "metadata": {},
   "source": [
    "### 4. Rename the column <code>number_of_reviews</code> to <code>reviews_count</code>"
   ]
  },
  {
   "cell_type": "code",
   "execution_count": 18,
   "metadata": {},
   "outputs": [],
   "source": [
    "df = df.rename(columns={'number_of_reviews' : 'reviews_count'})"
   ]
  },
  {
   "cell_type": "markdown",
   "metadata": {},
   "source": [
    "### 5. Convert the price column from integer to float data type"
   ]
  },
  {
   "cell_type": "code",
   "execution_count": 20,
   "metadata": {},
   "outputs": [],
   "source": [
    "df['price'] = df['price'].astype(float)"
   ]
  },
  {
   "cell_type": "markdown",
   "metadata": {},
   "source": [
    "### 6. Replace all occurrences of Private room in the <code>room_type</code> column with Private"
   ]
  },
  {
   "cell_type": "code",
   "execution_count": 23,
   "metadata": {},
   "outputs": [],
   "source": [
    "df['room_type'] = df['room_type'].apply(lambda x: 'Private' if x == 'Private room' else x)"
   ]
  },
  {
   "cell_type": "markdown",
   "metadata": {},
   "source": [
    "The better solution is:\n",
    "\n",
    "<code>df.loc[df['room_type'] == 'Private room', 'room_type'] = 'Private'</code>\n",
    "\n",
    "In this solution, df['room_type'] == 'Private room' creates a boolean mask that identifies the rows where the 'room_type' column has the value 'Private room'. Then, df.loc[boolean_mask, 'room_type'] selects the subset of the 'room_type' column where the boolean mask is True. Finally, we assign the value 'Private' to this subset, effectively replacing 'Private room' with 'Private'."
   ]
  },
  {
   "cell_type": "markdown",
   "metadata": {},
   "source": [
    "### 7. Add new row with the given details\n",
    "\n",
    "Add a new row to the DataFrame df at the end with the following details:\n",
    "\n",
    "<code>new_row_data = {'id': 851792795339743534, 'name': 'Tony Stark Apartment', 'host_id': 67890, 'room_type': 'Entire home/apt',\n",
    "                'price': 150, 'minimum_nights': 3, 'reviews_count': 10}</code>"
   ]
  },
  {
   "cell_type": "code",
   "execution_count": 24,
   "metadata": {},
   "outputs": [],
   "source": [
    "new_row_data = {'id': 851792795339743534, 'name': 'Tony Stark Apartment', 'host_id': 67890, 'room_type': 'Entire home/apt',\n",
    "                'price': 150, 'minimum_nights': 3, 'reviews_count': 10}\n",
    "new_row = pd.DataFrame(new_row_data, index=[len(df)])\n",
    "df = pd.concat([df, new_row])"
   ]
  },
  {
   "cell_type": "markdown",
   "metadata": {},
   "source": [
    "In this solution, we create a new DataFrame new_row with the new row data and index. Then, we use pd.concat() to concatenate the two DataFrames df and new_row along the row axis."
   ]
  },
  {
   "cell_type": "markdown",
   "metadata": {},
   "source": [
    "### 8. Remove the <code>availability_365</code> column from the DataFrame without creating a new DataFrame"
   ]
  },
  {
   "cell_type": "code",
   "execution_count": null,
   "metadata": {},
   "outputs": [],
   "source": [
    "df.drop(['availability_365'], axis=1, inplace=True)"
   ]
  },
  {
   "cell_type": "markdown",
   "metadata": {},
   "source": [
    "### 9. Sort the DataFrame by the price column in descending order\n",
    "\n",
    "Sort the DataFrame df by the <code>price</code> column in descending order and assign the result to <code>sorted_df</code>."
   ]
  },
  {
   "cell_type": "code",
   "execution_count": 25,
   "metadata": {},
   "outputs": [],
   "source": [
    "sorted_df = df.sort_values(by='price', ascending=False)"
   ]
  },
  {
   "cell_type": "markdown",
   "metadata": {},
   "source": [
    "### 10. Convert all prices from US dollars to Euros\n",
    "\n",
    "Create a new column <code>price_eur</code> in the DataFrame df that contains the prices in Euros. The conversion rate is 1 US dollar = 0.85 euros."
   ]
  },
  {
   "cell_type": "code",
   "execution_count": 26,
   "metadata": {},
   "outputs": [],
   "source": [
    "df['price_eur'] = df['price'] * 0.85"
   ]
  },
  {
   "cell_type": "markdown",
   "metadata": {},
   "source": [
    "### 11. Modify the price_per_night by doubling the rates.\n",
    "\n",
    "Modify the <code>price_per_night</code> column by doubling the rates. For example, if the <code>price_per_night</code> column contains the value 50, it should be modified to 100.\n",
    "\n",
    "> Modify the original DataFrame df."
   ]
  },
  {
   "cell_type": "code",
   "execution_count": 27,
   "metadata": {},
   "outputs": [],
   "source": [
    "df['price_per_night'] = df['price_per_night'] * 2"
   ]
  },
  {
   "cell_type": "markdown",
   "metadata": {},
   "source": [
    "### 12. Create a new column named year that contains the year information from the last_review column\n",
    "\n",
    "Create a new column <code>year</code> in the DataFrame df that contains the year information from the <code>last_review column</code>. \n",
    "For example, if the <code>last_review</code> column contains the date 2019-05-21, the year column should contain the value 2019. You can use the dt accessor to access the datetime properties of a column. For example, <code>df['last_review'].dt.year</code> returns the year information from the last_review column."
   ]
  },
  {
   "cell_type": "code",
   "execution_count": 28,
   "metadata": {},
   "outputs": [],
   "source": [
    "df['year'] = df['last_review'].dt.year"
   ]
  }
 ],
 "metadata": {
  "kernelspec": {
   "display_name": "Python 3",
   "language": "python",
   "name": "python3"
  },
  "language_info": {
   "codemirror_mode": {
    "name": "ipython",
    "version": 3
   },
   "file_extension": ".py",
   "mimetype": "text/x-python",
   "name": "python",
   "nbconvert_exporter": "python",
   "pygments_lexer": "ipython3",
   "version": "3.11.2"
  }
 },
 "nbformat": 4,
 "nbformat_minor": 2
}
