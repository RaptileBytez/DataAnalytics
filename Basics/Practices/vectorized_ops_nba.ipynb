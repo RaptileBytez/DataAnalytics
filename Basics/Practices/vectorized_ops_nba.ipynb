{
 "cells": [
  {
   "cell_type": "markdown",
   "metadata": {},
   "source": [
    "# Series Practice: Vectorized Operations using NBA data\n",
    "\n",
    "It's time to put to practice our Vectorized Operations with Series.\n",
    "\n",
    "The data we'll use is related to statistics of Players from the NBA since the year 1985. Although this practice is about Series, we'll start reading our data as a DataFrame. If you don't know what a DataFrame is yet, don't worry... this will actually be useful for the future. The only thing you need to know now is that each column of a DataFrame is a Series. And we're extracting several Series from the df:\n",
    "\n",
    "<code>\n",
    "# Game info\n",
    "games_played = df['G']\n",
    "minutes_played = df['MP']\n",
    "</code>\n",
    "\n",
    "-\n",
    "\n",
    "<code>\n",
    "# Field Goals info\n",
    "field_goals = df['FG']\n",
    "field_goals_attempts = df['FGA']\n",
    "</code>\n",
    "\n",
    "-\n",
    "\n",
    "<code>\n",
    "# Free Throws info\n",
    "free_throws = df['FT']\n",
    "free_throws_attempts = df['FTA']\n",
    "</code>\n",
    "\n",
    "\n",
    "The index of the Series is the Player's name. So, for example, we can find the total field goals of Michael Jordan:\n",
    "\n",
    "<code>field_goals.loc[field_goals.index == 'Michael Jordan*']</code>\n",
    "The star (*) next to the player's name is because that player was selected for the \"Hall of Fame\" of the NBA.\n",
    "\n",
    "Now, let's get started with our practice!"
   ]
  },
  {
   "cell_type": "code",
   "execution_count": 4,
   "metadata": {},
   "outputs": [
    {
     "data": {
      "text/plain": [
       "Index(['height', 'weight', 'collage', 'born', 'G', 'MP', 'FG', 'FGA', 'FT',\n",
       "       'FTA', '3P', '3PA', '2P', '2PA', 'ORB', 'DRB', 'TRB', 'AST', 'STL',\n",
       "       'BLK', 'TOV', 'PF', 'PTS'],\n",
       "      dtype='object')"
      ]
     },
     "execution_count": 4,
     "metadata": {},
     "output_type": "execute_result"
    }
   ],
   "source": [
    "import pandas as pd\n",
    "csv_file_path = \"../../data/nba_player_stats_1985.csv\"\n",
    "df = pd.read_csv(csv_file_path, index_col='Player')\n",
    "df.columns"
   ]
  },
  {
   "cell_type": "code",
   "execution_count": 5,
   "metadata": {},
   "outputs": [],
   "source": [
    "# Game info\n",
    "games_played = df['G']\n",
    "minutes_played = df['MP']\n",
    "\n",
    "# Field Goals info\n",
    "field_goals = df['FG']\n",
    "field_goals_attempts = df['FGA']\n",
    "\n",
    "# Free Throws info\n",
    "free_throws = df['FT']\n",
    "free_throws_attempts = df['FTA']"
   ]
  },
  {
   "cell_type": "code",
   "execution_count": 6,
   "metadata": {},
   "outputs": [
    {
     "data": {
      "text/plain": [
       "12192.0"
      ]
     },
     "execution_count": 6,
     "metadata": {},
     "output_type": "execute_result"
    }
   ],
   "source": [
    "field_goals.loc['Michael Jordan*']"
   ]
  },
  {
   "cell_type": "markdown",
   "metadata": {},
   "source": [
    "## Arithmetic Operations"
   ]
  },
  {
   "cell_type": "markdown",
   "metadata": {},
   "source": [
    "### 1. Calculate field goal accuracy\n",
    "\n",
    "Calculate the \"Field Goal accuracy\" of a player by dividing their field goals by their total attempts then multiply by 100. Store the result in the variable field_goal_perc."
   ]
  },
  {
   "cell_type": "code",
   "execution_count": 8,
   "metadata": {},
   "outputs": [
    {
     "data": {
      "text/plain": [
       "Player\n",
       "A.C. Green       49.328928\n",
       "A.J. Bramlett    19.047619\n",
       "A.J. English     43.511989\n",
       "A.J. Guyton      37.727273\n",
       "A.J. Hammons     40.476190\n",
       "dtype: float64"
      ]
     },
     "execution_count": 8,
     "metadata": {},
     "output_type": "execute_result"
    }
   ],
   "source": [
    "field_goal_perc = field_goals / field_goals_attempts * 100\n",
    "field_goal_perc.head()"
   ]
  },
  {
   "cell_type": "markdown",
   "metadata": {},
   "source": [
    "### 2. What's the FG% of Michael Jordan\n",
    "\n",
    "Use the series created in the previous activity, field_goal_perc, to answer: what's the FG% of Michael Jordan?\n",
    "\n",
    "Remember, MJ's name in this dataset is Michael Jordan* because he was (obviously) inducted in the HoF.\n",
    "\n",
    "Enter your result with up to three decimal points(don't round-off). That is, if the value is 0.618324, enter 0.618 (including the 0 and the dot .)."
   ]
  },
  {
   "cell_type": "code",
   "execution_count": 14,
   "metadata": {},
   "outputs": [
    {
     "name": "stdout",
     "output_type": "stream",
     "text": [
      "49.688\n"
     ]
    }
   ],
   "source": [
    "print(f\"{field_goal_perc.loc['Michael Jordan*']:.3f}\")"
   ]
  },
  {
   "cell_type": "markdown",
   "metadata": {},
   "source": [
    "### 3. Field goals per Game\n",
    "\n",
    "Calculate \"Field Goals per Game\" using the series field_goals and games_played. Store your results in the variable field_goals_per_game"
   ]
  },
  {
   "cell_type": "code",
   "execution_count": 15,
   "metadata": {},
   "outputs": [],
   "source": [
    "field_goals_per_game = field_goals / games_played"
   ]
  },
  {
   "cell_type": "markdown",
   "metadata": {},
   "source": [
    "### 4. Which player has the highest 'Field Goal per Game' value?"
   ]
  },
  {
   "cell_type": "code",
   "execution_count": 16,
   "metadata": {},
   "outputs": [
    {
     "data": {
      "text/plain": [
       "Player\n",
       "Michael Jordan*       11.373134\n",
       "Larry Bird*            9.965863\n",
       "Alex English*          9.874336\n",
       "LeBron James           9.823751\n",
       "Dominique Wilkins*     9.518782\n",
       "dtype: float64"
      ]
     },
     "execution_count": 16,
     "metadata": {},
     "output_type": "execute_result"
    }
   ],
   "source": [
    "field_goals_per_game.sort_values(ascending=False).head()"
   ]
  },
  {
   "cell_type": "markdown",
   "metadata": {},
   "source": [
    "### 5. Calculate 'Total Points'\n",
    "\n",
    "In the NBA lingo, field goals account for all the \"goals\" scored by a player, EXCEPT free throws. So, if we want to calculate the total number of points scored by a player, we must add field goals and free throws. Field goals are a combination of 2-point and 3-point goals. For this exercise, you can safely assume that all \"field goals\" have a value of 2.\n",
    "\n",
    "Calculate Total Points scored by a player, by adding the series containing field goals and free throws. Store your results in the variable total_points."
   ]
  },
  {
   "cell_type": "code",
   "execution_count": 17,
   "metadata": {},
   "outputs": [],
   "source": [
    "total_points = field_goals * 2 + free_throws "
   ]
  },
  {
   "cell_type": "markdown",
   "metadata": {},
   "source": [
    "### 6. Who's the player with the most Total Points?\n",
    "\n",
    "Who's the player that, according to our dataset, has scored the most points in the NBA history?"
   ]
  },
  {
   "cell_type": "code",
   "execution_count": 18,
   "metadata": {},
   "outputs": [
    {
     "data": {
      "text/plain": [
       "Player\n",
       "Karl Malone*         36843.0\n",
       "Kobe Bryant          31816.0\n",
       "Michael Jordan*      31711.0\n",
       "Shaquille O'Neal*    29427.0\n",
       "Dirk Nowitzki        28480.0\n",
       "dtype: float64"
      ]
     },
     "execution_count": 18,
     "metadata": {},
     "output_type": "execute_result"
    }
   ],
   "source": [
    "total_points.sort_values(ascending=False).head()"
   ]
  },
  {
   "cell_type": "markdown",
   "metadata": {},
   "source": [
    "### 7. Total Points per Minute\n",
    "\n",
    "Using the series that you previously calculated, total_points, calculate \"Total points per minute\". Store your results in the variable points_per_minute.\n",
    "\n",
    "Important. This activity relies on total_points. Make sure you have completed that one correctly."
   ]
  },
  {
   "cell_type": "code",
   "execution_count": 19,
   "metadata": {},
   "outputs": [],
   "source": [
    "points_per_minute = total_points / minutes_played"
   ]
  },
  {
   "cell_type": "markdown",
   "metadata": {},
   "source": [
    "### 8. Who has a better Points per Minute score; MJ or Kevin Durant?"
   ]
  },
  {
   "cell_type": "code",
   "execution_count": 21,
   "metadata": {},
   "outputs": [
    {
     "data": {
      "text/plain": [
       "False"
      ]
     },
     "execution_count": 21,
     "metadata": {},
     "output_type": "execute_result"
    }
   ],
   "source": [
    "points_per_minute.loc['Kevin Durant'] > points_per_minute.loc['Michael Jordan*']"
   ]
  },
  {
   "cell_type": "markdown",
   "metadata": {},
   "source": [
    "### 9. Calculate FT%\n",
    "\n",
    "FT% is the proportion of scored Free Throws divided by the total attempts. Basically, the accuracy of Free Throws. Store your results in ft_perc."
   ]
  },
  {
   "cell_type": "code",
   "execution_count": 23,
   "metadata": {},
   "outputs": [],
   "source": [
    "ft_perc = free_throws / free_throws_attempts"
   ]
  },
  {
   "cell_type": "markdown",
   "metadata": {},
   "source": [
    "### 10. Who's the player with best FT% record: MJ or Larry Bird?\n",
    "\n",
    "A battle of titans. Who had a better FT% record?"
   ]
  },
  {
   "cell_type": "code",
   "execution_count": 25,
   "metadata": {},
   "outputs": [
    {
     "data": {
      "text/plain": [
       "True"
      ]
     },
     "execution_count": 25,
     "metadata": {},
     "output_type": "execute_result"
    }
   ],
   "source": [
    "ft_perc.loc['Larry Bird*'] > ft_perc.loc['Michael Jordan*']"
   ]
  },
  {
   "cell_type": "markdown",
   "metadata": {},
   "source": [
    "## Boolean Operations"
   ]
  },
  {
   "cell_type": "markdown",
   "metadata": {},
   "source": [
    "### 11. Find the top 25% players by 'free throw accuracy'\n",
    "\n",
    "Create a boolean series that contains True values for those players that are in the top 25% by free throw efficiency (using the preivously calculated) ft_perc series. Store your results in the variable ft_top_25.\n",
    "\n",
    "Your result should look something like:\n",
    "\n",
    "| Player | |\n",
    "|---------------|---------|\n",
    "| A.C. Green   |    False |\n",
    "| A.J. Bramlett |   False |\n",
    "| A.J. English  |   False |\n",
    "| A.J. Guyton   |    True |\n",
    "| A.J. Hammons  |   False |\n",
    "| A.J. Price    |   False |\n",
    "| A.J. Wynder   |   False |\n",
    "| Aaron Brooks  |    True |\n",
    "| Aaron Gordon  |   False |\n",
    "| Aaron Gray    |   False |\n",
    "dtype: bool\n"
   ]
  },
  {
   "cell_type": "code",
   "execution_count": 27,
   "metadata": {},
   "outputs": [
    {
     "data": {
      "text/plain": [
       "Player\n",
       "A.C. Green       False\n",
       "A.J. Bramlett    False\n",
       "A.J. English     False\n",
       "A.J. Guyton       True\n",
       "A.J. Hammons     False\n",
       "dtype: bool"
      ]
     },
     "execution_count": 27,
     "metadata": {},
     "output_type": "execute_result"
    }
   ],
   "source": [
    "ft_top_25 = ft_perc >= ft_perc.quantile(.75)\n",
    "ft_top_25.head()"
   ]
  },
  {
   "cell_type": "markdown",
   "metadata": {},
   "source": [
    "### 12. How many players are in the top 25% by free throw accuracy?\n",
    "\n",
    "Answer using the previously calcualted series ft_top_25"
   ]
  },
  {
   "cell_type": "code",
   "execution_count": 29,
   "metadata": {},
   "outputs": [
    {
     "data": {
      "text/plain": [
       "False    1940\n",
       "True      613\n",
       "dtype: int64"
      ]
     },
     "execution_count": 29,
     "metadata": {},
     "output_type": "execute_result"
    }
   ],
   "source": [
    "ft_top_25.value_counts()"
   ]
  },
  {
   "cell_type": "code",
   "execution_count": 30,
   "metadata": {},
   "outputs": [
    {
     "data": {
      "text/plain": [
       "613"
      ]
     },
     "execution_count": 30,
     "metadata": {},
     "output_type": "execute_result"
    }
   ],
   "source": [
    "ft_top_25.sum()"
   ]
  },
  {
   "cell_type": "markdown",
   "metadata": {},
   "source": [
    "### 13. Find those players that scored 0 points in their history\n",
    "\n",
    "Create a boolean series that contains True values for those players that have scored 0 total points. Store your results in the variable players_0_points."
   ]
  },
  {
   "cell_type": "code",
   "execution_count": 31,
   "metadata": {},
   "outputs": [],
   "source": [
    "players_0_points = total_points == 0"
   ]
  },
  {
   "cell_type": "markdown",
   "metadata": {},
   "source": [
    "### 14. How many players have scored 0 points?\n",
    "\n",
    "Using your previous series, answer: how many players registered 0 points?"
   ]
  },
  {
   "cell_type": "code",
   "execution_count": 32,
   "metadata": {},
   "outputs": [
    {
     "data": {
      "text/plain": [
       "41"
      ]
     },
     "execution_count": 32,
     "metadata": {},
     "output_type": "execute_result"
    }
   ],
   "source": [
    "players_0_points.sum()"
   ]
  }
 ],
 "metadata": {
  "kernelspec": {
   "display_name": "Python 3",
   "language": "python",
   "name": "python3"
  },
  "language_info": {
   "codemirror_mode": {
    "name": "ipython",
    "version": 3
   },
   "file_extension": ".py",
   "mimetype": "text/x-python",
   "name": "python",
   "nbconvert_exporter": "python",
   "pygments_lexer": "ipython3",
   "version": "3.11.2"
  }
 },
 "nbformat": 4,
 "nbformat_minor": 2
}
