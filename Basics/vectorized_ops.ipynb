{
 "cells": [
  {
   "cell_type": "markdown",
   "metadata": {},
   "source": [
    "# Vectorized Operations with Series"
   ]
  },
  {
   "cell_type": "markdown",
   "metadata": {},
   "source": [
    "## Introduction\n",
    "In this brief project, we'll learn about \"Vectorized Operations\". In particular, we'll learn about Vectorized Operations applied to Pandas Series; but in reality, they're a concept original from NumPy, and we'll use it A LOT with DataFrames.\n",
    "\n",
    "So, the examples we'll see here might look trivial, but trust us that they'll be very useful throughout all your Pandas journey.\n",
    "\n",
    "Let's get started!"
   ]
  },
  {
   "cell_type": "markdown",
   "metadata": {},
   "source": [
    "## Understanding Vectorized Operations\n",
    "Vectorized Operations means just applying a \"global\" function to an entire Series.\n",
    "First, we initialize the Series we've been using, this time we name it revenue_in_millions. That's the same series we've used so far, and it captures the revenue of the companies (listed in the Index) in Millions of dollars.\n",
    "\n",
    "We then create A NEW Series named revenue_in_billions just by dividing the whole Series by 1000:"
   ]
  },
  {
   "cell_type": "code",
   "execution_count": 1,
   "metadata": {},
   "outputs": [],
   "source": [
    "import pandas as pd"
   ]
  },
  {
   "cell_type": "code",
   "execution_count": 2,
   "metadata": {},
   "outputs": [],
   "source": [
    "companies = [\n",
    "    'Apple', 'Samsung', 'Alphabet', 'Foxconn',\n",
    "    'Microsoft', 'Huawei', 'Dell Technologies',\n",
    "    'Meta', 'Sony', 'Hitachi', 'Intel',\n",
    "    'IBM', 'Tencent', 'Panasonic'\n",
    "]\n",
    "revenue_in_millions = pd.Series([\n",
    "    274515, 200734, 182527, 181945, 143015,\n",
    "    129184, 92224, 85965, 84893, 82345,\n",
    "    77867, 73620, 69864, 63191],\n",
    "    index=companies,\n",
    "    name=\"Top Technology Companies by Revenue\")"
   ]
  },
  {
   "cell_type": "code",
   "execution_count": 3,
   "metadata": {},
   "outputs": [],
   "source": [
    "revenue_in_billions = revenue_in_millions / 1000"
   ]
  },
  {
   "cell_type": "code",
   "execution_count": 4,
   "metadata": {},
   "outputs": [
    {
     "data": {
      "text/plain": [
       "Apple                274.515\n",
       "Samsung              200.734\n",
       "Alphabet             182.527\n",
       "Foxconn              181.945\n",
       "Microsoft            143.015\n",
       "Huawei               129.184\n",
       "Dell Technologies     92.224\n",
       "Meta                  85.965\n",
       "Sony                  84.893\n",
       "Hitachi               82.345\n",
       "Intel                 77.867\n",
       "IBM                   73.620\n",
       "Tencent               69.864\n",
       "Panasonic             63.191\n",
       "Name: Top Technology Companies by Revenue, dtype: float64"
      ]
     },
     "execution_count": 4,
     "metadata": {},
     "output_type": "execute_result"
    }
   ],
   "source": [
    "revenue_in_billions"
   ]
  },
  {
   "cell_type": "markdown",
   "metadata": {},
   "source": [
    "That's it! That's a vectorized operation. We say it's \"vectorized\" because it doesn't act on just 1 value, but in the whole vector of values contained in the Series.\n",
    "\n",
    "Available Operators\n",
    "For now, we'll mostly focus on the regular arithmetic operators: +, -, *, /, **, etc. But you'll see in further labs that we can create vectorized operations with String operations or even our own custom functions.\n",
    "\n",
    "Practice time\n",
    "Now it's your turn to practice some vectorized operations before we advance to the following section."
   ]
  },
  {
   "cell_type": "markdown",
   "metadata": {},
   "source": [
    "## Understanding Vectorized Operations"
   ]
  },
  {
   "cell_type": "markdown",
   "metadata": {},
   "source": [
    "### 1. Subtract $50B from all companies in revenue_in_billions\n",
    "\n",
    "The recession just hit! Let's say you need to subtract $50B from all the companies in revenue_in_billions. Store the new series in the variable revenue_recession"
   ]
  },
  {
   "cell_type": "code",
   "execution_count": 6,
   "metadata": {},
   "outputs": [
    {
     "data": {
      "text/plain": [
       "Apple                224.515\n",
       "Samsung              150.734\n",
       "Alphabet             132.527\n",
       "Foxconn              131.945\n",
       "Microsoft             93.015\n",
       "Huawei                79.184\n",
       "Dell Technologies     42.224\n",
       "Meta                  35.965\n",
       "Sony                  34.893\n",
       "Hitachi               32.345\n",
       "Intel                 27.867\n",
       "IBM                   23.620\n",
       "Tencent               19.864\n",
       "Panasonic             13.191\n",
       "Name: Top Technology Companies by Revenue, dtype: float64"
      ]
     },
     "execution_count": 6,
     "metadata": {},
     "output_type": "execute_result"
    }
   ],
   "source": [
    "revenue_recession = revenue_in_billions - 50\n",
    "revenue_recession"
   ]
  },
  {
   "cell_type": "markdown",
   "metadata": {},
   "source": [
    "### 2. reate a new series expressing revenue in dollars (units)\n",
    "\n",
    "The accounting team needs more detail when calculating EBITDA. They need revenue expressed in dollar units (instead of millions or billions). Use either series revenue_in_millions or revenue_in_billions to create a new series revenue_in_dollars."
   ]
  },
  {
   "cell_type": "code",
   "execution_count": 8,
   "metadata": {},
   "outputs": [
    {
     "data": {
      "text/plain": [
       "Apple                274515000000\n",
       "Samsung              200734000000\n",
       "Alphabet             182527000000\n",
       "Foxconn              181945000000\n",
       "Microsoft            143015000000\n",
       "Huawei               129184000000\n",
       "Dell Technologies     92224000000\n",
       "Meta                  85965000000\n",
       "Sony                  84893000000\n",
       "Hitachi               82345000000\n",
       "Intel                 77867000000\n",
       "IBM                   73620000000\n",
       "Tencent               69864000000\n",
       "Panasonic             63191000000\n",
       "Name: Top Technology Companies by Revenue, dtype: int64"
      ]
     },
     "execution_count": 8,
     "metadata": {},
     "output_type": "execute_result"
    }
   ],
   "source": [
    "revenue_in_dollars = revenue_in_millions * 1000000\n",
    "revenue_in_dollars"
   ]
  },
  {
   "cell_type": "markdown",
   "metadata": {},
   "source": [
    "## Operations between Series\n",
    "If we keep the analogy of spreadsheets, you'll see that it's also possible to create operations between different Series. For example, let's say recession hits again and the revenue of all companies is affected; but not equally. We want to reduce the revenue of each company by a given percentage. For example, Apple's new revenue will be 91% of the original one, Samsung's 93%, etc."
   ]
  },
  {
   "cell_type": "code",
   "execution_count": 9,
   "metadata": {},
   "outputs": [
    {
     "data": {
      "text/plain": [
       "Apple                0.91\n",
       "Samsung              0.93\n",
       "Alphabet             0.98\n",
       "Foxconn              0.97\n",
       "Microsoft            0.99\n",
       "Huawei               0.89\n",
       "Dell Technologies    0.87\n",
       "Meta                 0.82\n",
       "Sony                 0.93\n",
       "Hitachi              0.93\n",
       "Intel                0.89\n",
       "IBM                  0.97\n",
       "Tencent              0.97\n",
       "Panasonic            0.94\n",
       "dtype: float64"
      ]
     },
     "execution_count": 9,
     "metadata": {},
     "output_type": "execute_result"
    }
   ],
   "source": [
    "recession_impact = pd.Series([\n",
    "    0.91, 0.93, 0.98, 0.97, 0.99, 0.89, 0.87,\n",
    "    0.82, 0.93, 0.93, 0.89, 0.97, 0.97, 0.94], index=companies)\n",
    "recession_impact"
   ]
  },
  {
   "cell_type": "code",
   "execution_count": 10,
   "metadata": {},
   "outputs": [
    {
     "data": {
      "text/plain": [
       "Apple                249808.65\n",
       "Samsung              186682.62\n",
       "Alphabet             178876.46\n",
       "Foxconn              176486.65\n",
       "Microsoft            141584.85\n",
       "Huawei               114973.76\n",
       "Dell Technologies     80234.88\n",
       "Meta                  70491.30\n",
       "Sony                  78950.49\n",
       "Hitachi               76580.85\n",
       "Intel                 69301.63\n",
       "IBM                   71411.40\n",
       "Tencent               67768.08\n",
       "Panasonic             59399.54\n",
       "dtype: float64"
      ]
     },
     "execution_count": 10,
     "metadata": {},
     "output_type": "execute_result"
    }
   ],
   "source": [
    "revenue_in_millions * recession_impact"
   ]
  },
  {
   "cell_type": "code",
   "execution_count": 11,
   "metadata": {},
   "outputs": [
    {
     "data": {
      "text/plain": [
       "Apple                24706.35\n",
       "Samsung              14051.38\n",
       "Alphabet              3650.54\n",
       "Foxconn               5458.35\n",
       "Microsoft             1430.15\n",
       "Huawei               14210.24\n",
       "Dell Technologies    11989.12\n",
       "Meta                 15473.70\n",
       "Sony                  5942.51\n",
       "Hitachi               5764.15\n",
       "Intel                 8565.37\n",
       "IBM                   2208.60\n",
       "Tencent               2095.92\n",
       "Panasonic             3791.46\n",
       "dtype: float64"
      ]
     },
     "execution_count": 11,
     "metadata": {},
     "output_type": "execute_result"
    }
   ],
   "source": [
    "# Absolute Impact:\n",
    "revenue_in_millions - (revenue_in_millions * recession_impact)"
   ]
  },
  {
   "cell_type": "code",
   "execution_count": 12,
   "metadata": {},
   "outputs": [
    {
     "data": {
      "text/plain": [
       "Apple                24.70635\n",
       "Samsung              14.05138\n",
       "Alphabet              3.65054\n",
       "Foxconn               5.45835\n",
       "Microsoft             1.43015\n",
       "Huawei               14.21024\n",
       "Dell Technologies    11.98912\n",
       "Meta                 15.47370\n",
       "Sony                  5.94251\n",
       "Hitachi               5.76415\n",
       "Intel                 8.56537\n",
       "IBM                   2.20860\n",
       "Tencent               2.09592\n",
       "Panasonic             3.79146\n",
       "dtype: float64"
      ]
     },
     "execution_count": 12,
     "metadata": {},
     "output_type": "execute_result"
    }
   ],
   "source": [
    "# Absolute impact in Billions\n",
    "(revenue_in_millions - (revenue_in_millions * recession_impact)) / 1_000"
   ]
  },
  {
   "cell_type": "markdown",
   "metadata": {},
   "source": [
    "### 3. Calculate revenue per employee, in dollars\n",
    "\n",
    "Using the series number_of_employees (given in the notebook), your job is to calculate revenue per employee, expressed in dollars (units). Store it in the variable revenue_per_employee."
   ]
  },
  {
   "cell_type": "code",
   "execution_count": 13,
   "metadata": {},
   "outputs": [],
   "source": [
    "number_of_employees = pd.Series([\n",
    "    164000, 266673, 150028, 1290000, 221000, 195000,\n",
    "    165000, 71970, 109700, 368250, 121100, 282100, 112771, 240198\n",
    "], index=companies)"
   ]
  },
  {
   "cell_type": "code",
   "execution_count": 14,
   "metadata": {},
   "outputs": [
    {
     "data": {
      "text/plain": [
       "Apple                1.673872e+06\n",
       "Samsung              7.527346e+05\n",
       "Alphabet             1.216620e+06\n",
       "Foxconn              1.410426e+05\n",
       "Microsoft            6.471267e+05\n",
       "Huawei               6.624821e+05\n",
       "Dell Technologies    5.589333e+05\n",
       "Meta                 1.194456e+06\n",
       "Sony                 7.738651e+05\n",
       "Hitachi              2.236117e+05\n",
       "Intel                6.429975e+05\n",
       "IBM                  2.609713e+05\n",
       "Tencent              6.195210e+05\n",
       "Panasonic            2.630788e+05\n",
       "dtype: float64"
      ]
     },
     "execution_count": 14,
     "metadata": {},
     "output_type": "execute_result"
    }
   ],
   "source": [
    "revenue_per_employee = revenue_in_dollars / number_of_employees\n",
    "revenue_per_employee"
   ]
  }
 ],
 "metadata": {
  "kernelspec": {
   "display_name": "Python 3",
   "language": "python",
   "name": "python3"
  },
  "language_info": {
   "codemirror_mode": {
    "name": "ipython",
    "version": 3
   },
   "file_extension": ".py",
   "mimetype": "text/x-python",
   "name": "python",
   "nbconvert_exporter": "python",
   "pygments_lexer": "ipython3",
   "version": "3.11.2"
  }
 },
 "nbformat": 4,
 "nbformat_minor": 2
}
