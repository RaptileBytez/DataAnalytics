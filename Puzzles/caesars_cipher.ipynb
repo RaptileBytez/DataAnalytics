{
 "cells": [
  {
   "cell_type": "markdown",
   "metadata": {},
   "source": [
    "# Breaking Caesar's Cipher"
   ]
  },
  {
   "cell_type": "markdown",
   "metadata": {},
   "source": [
    "A Caesar cipher is one of the simplest and most widely known encryption techniques. It is a type of substitution cipher in which each letter in the plaintext is replaced by a letter some fixed number of positions down the alphabet. Graphically, it looks something like this:\n",
    "\n",
    "\n",
    "Preview\n",
    "A cipher receives the text to cipher, and an integer parameter, indicating how many positions to shift the alphabet (it can be positive or negative). For example, let's say we want to encrypt the word \"DataWars with shift = 3.\n",
    "\n",
    "#### Original alphabet\n",
    "A B C D E F G H I J K L M N O P Q R S T U V W X Y Z\n",
    "\n",
    "#### Alphabet shifted 3 position (to the right, as 3 is positive)\n",
    "D E F G H I J K L M N O P Q R S T U V W X Y Z A B C\n",
    "\n",
    "#### Original word\n",
    "DataWars\n",
    "\n",
    "#### Mapping\n",
    "D => G\n",
    "a => d\n",
    "t => w\n",
    "a => d\n",
    "W => Z\n",
    "a => d\n",
    "r => u\n",
    "s => V\n",
    "\n",
    "#### Encrypted word\n",
    "GdwdZduv\n",
    "\n",
    "In this project, we'll build our own cipher (and decipher!). We'll rely strongly on the string builtin Python module."
   ]
  },
  {
   "cell_type": "markdown",
   "metadata": {},
   "source": [
    "## Basic Functions\n",
    "\n",
    "Let's start with some basic functions and building blocks that we'll need to build our cipher.\n",
    "\n",
    "The <code>letters</code> variable contains a list of all the letters in an uppercase format."
   ]
  },
  {
   "cell_type": "code",
   "execution_count": 1,
   "metadata": {},
   "outputs": [],
   "source": [
    "import string\n",
    "letters = list(string.ascii_uppercase)"
   ]
  },
  {
   "cell_type": "markdown",
   "metadata": {},
   "source": [
    "### 1. Shift letters by 5\n",
    "\n",
    "Shift the letters by 5 places to the right and store the result in the variable shift_5. Do NOT modify the letters variable.\n",
    "\n",
    "shift_5 will look something like: [F, G, H, ...]"
   ]
  },
  {
   "cell_type": "code",
   "execution_count": 16,
   "metadata": {},
   "outputs": [],
   "source": [
    "shift_5 = []\n",
    "for letter in letters:\n",
    "    try:\n",
    "        shifted_index = ((letters.index(letter) + 5) % len(letters))\n",
    "        shift_5.append(letters[shifted_index])\n",
    "    except IndexError as e:\n",
    "        print(e)\n"
   ]
  },
  {
   "cell_type": "markdown",
   "metadata": {},
   "source": [
    "### 2. Shift letters by -8\n",
    "\n",
    "Shift the letters by 8 places to the left (that is, -8 places) and store the result in the variable shift_minus_8. Do NOT modify the letters variable.\n",
    "\n",
    "shift_minus_8 will look something like: [S, T, U, ...]"
   ]
  },
  {
   "cell_type": "code",
   "execution_count": 18,
   "metadata": {},
   "outputs": [],
   "source": [
    "shift_minus_8 = []\n",
    "for letter in letters:\n",
    "    try:\n",
    "        shifted_index = ((letters.index(letter) - 8) % len(letters))\n",
    "        shift_minus_8.append(letters[shifted_index])\n",
    "    except IndexError as e:\n",
    "        print(e)\n"
   ]
  },
  {
   "cell_type": "markdown",
   "metadata": {},
   "source": [
    "### 3. Shift letters by 32\n",
    "\n",
    "Shift letters by 32\n",
    "\n",
    "Similar as before, but now we'll use 32 as shift. In this case, 32 will overflow and start counting all the way from the right."
   ]
  },
  {
   "cell_type": "code",
   "execution_count": 20,
   "metadata": {},
   "outputs": [],
   "source": [
    "shift_32 = []\n",
    "for letter in letters:\n",
    "    try:\n",
    "        shifted_index = ((letters.index(letter) + 32) % len(letters))\n",
    "        shift_32.append(letters[shifted_index])\n",
    "    except IndexError as e:\n",
    "        print(e)\n",
    "\n",
    "# shift_32"
   ]
  },
  {
   "cell_type": "markdown",
   "metadata": {},
   "source": [
    "### 4. Write the function shift_letters\n",
    "\n",
    "The shift_letters function receives two parameters:\n",
    "\n",
    "letters: containing an alphabet, and\n",
    "shift: indicating the number of positions to shift (either right or left depending if the number is positive or negative)\n",
    "and returns a list of the letters variable shifted.\n",
    "\n",
    "So far, is pretty much the same as we did before. The only twist is that shift_letters should work with ANY alphabet passed in letters. For example, the Spanish alphabet contains the word Ñ, and it should work on the same way:\n",
    "\n",
    "<code>\n",
    "#                                         V note the Ñ\n",
    ">>> spanish_letters = list(\"ABCDEFGHIJKLMNÑOPQRSTUVWXYZ\")\n",
    ">>> shift_letters(list(\"ABCDEFGHIJKLMNÑOPQRSTUVWXYZ\"), 9)\n",
    "'JKLMNÑOPQRSTUVWXYZABCDEFGHI'\n",
    "</code>"
   ]
  },
  {
   "cell_type": "code",
   "execution_count": null,
   "metadata": {},
   "outputs": [],
   "source": [
    "def shift_letters(alphabet : [], shift: int) -> []:\n",
    "    result = []\n",
    "    for letter in alphabet:\n",
    "        try:\n",
    "            shifted_index = ((alphabet.index(letter) + shift) % len(alphabet))\n",
    "            result.append(alphabet[shifted_index])\n",
    "        except IndexError as e:\n",
    "            print(e)\n",
    "       \n",
    "    return result\n"
   ]
  },
  {
   "cell_type": "markdown",
   "metadata": {},
   "source": [
    "### 5. Write the function encrypt_simple\n",
    "\n",
    "The function encrypt_simple receives a word and a shift and returns the word encrypted using the Caesar's cipher technique explored so far. Examples:\n",
    "\n",
    "> Note: we'll use only uppercase letters for now, and we won't introduce any characters outside of letters (no whitespaces, no special symbols or numbers)."
   ]
  },
  {
   "cell_type": "code",
   "execution_count": 35,
   "metadata": {},
   "outputs": [],
   "source": [
    "def encrypt_simple(word: str, shift: int) -> str:\n",
    "    encrypted = \"\"\n",
    "    alphabet = list(string.ascii_uppercase)\n",
    "    for character in word:\n",
    "        index = (alphabet.index(character) + shift) %len(alphabet)\n",
    "        encrypted += alphabet[index]\n",
    "    return encrypted"
   ]
  },
  {
   "cell_type": "code",
   "execution_count": 36,
   "metadata": {},
   "outputs": [
    {
     "name": "stdout",
     "output_type": "stream",
     "text": [
      "IFYFBFWX\n"
     ]
    }
   ],
   "source": [
    "secret = encrypt_simple(\"DATAWARS\", 5)\n",
    "print(secret)"
   ]
  },
  {
   "cell_type": "markdown",
   "metadata": {},
   "source": [
    "### 6. Write the function decrypt_simple\n",
    "\n",
    "Write the function decrypt_simple that receives an encrypted word and the original shift used to encrypt it, and returns it decrypted counterpart. Examples:\n",
    "\n",
    ">>> encrypt_simple(\"DATAWARS\", 5)\n",
    "'IFYFBFWX'\n",
    "\n",
    "#### Now we decrypt:\n",
    ">>> decrypt_simple(\"IFYFBFWX\", 5)\n",
    "\"DATAWARS\"\n",
    "\n",
    ">>> encrypt_simple(\"DATAWARS\", -14)\n",
    "'PMFMIMDE'\n",
    "\n",
    "#### Now we decrypt:\n",
    ">>> decrypt_simple(\"PMFMIMDE\", -14)\n",
    "\"DATAWARS\""
   ]
  },
  {
   "cell_type": "code",
   "execution_count": 37,
   "metadata": {},
   "outputs": [],
   "source": [
    "def decrypt_simple(secret: str, key: int) -> str:\n",
    "    decrypted = \"\"\n",
    "    alphabet = list(string.ascii_uppercase)\n",
    "    for character in secret:\n",
    "        index = (alphabet.index(character) + (key * -1)) %len(alphabet)\n",
    "        decrypted += alphabet[index]\n",
    "    return decrypted"
   ]
  },
  {
   "cell_type": "code",
   "execution_count": 38,
   "metadata": {},
   "outputs": [
    {
     "name": "stdout",
     "output_type": "stream",
     "text": [
      "DATAWARS\n"
     ]
    }
   ],
   "source": [
    "plain = decrypt_simple(\"IFYFBFWX\", 5)\n",
    "print(plain)"
   ]
  },
  {
   "cell_type": "markdown",
   "metadata": {},
   "source": [
    "### 7. Define the functions encrypt_full and decrypt_full\n",
    "\n",
    "Define the function encrypt_full that will receive ANY text and the shift and encrypt it. The key is to encrypt only ASCII chars (that is, the characters defined in string.ascii_lowercase and string.ascii_uppercase). Anything else, should remain \"intact\" (unencrypted). Example:\n",
    "\n",
    ">>> encrypt_full(\"DataWars is Great!\", 9)\n",
    "'MjcjFjab rb Panjc!'\n",
    "\n",
    "#### We can verify the encryption work by running:\n",
    ">>> encrypt_simple(\"DATAWARS\", 9)\n",
    "'MJCJFJAB\n",
    "\n",
    ">>> encrypt_simple(\"IS\", 9)\n",
    "'RB'\n",
    "\n",
    ">>> encrypt_simple(\"GREAT\", 9)\n",
    "'PANJC\n",
    "Similarly, the function decrypt_full receives the encrypted text and the original shift, and returns the unencrypted version:"
   ]
  },
  {
   "cell_type": "code",
   "execution_count": 39,
   "metadata": {},
   "outputs": [],
   "source": [
    "def encrypt_full(text: str, key: int) -> str:\n",
    "    encrypted = \"\"\n",
    "    upper_case_chars = list(string.ascii_uppercase)\n",
    "    lower_case_chars = list(string.ascii_lowercase)\n",
    "    for character in text:\n",
    "        if character in upper_case_chars:\n",
    "            index = (upper_case_chars.index(character) + key) % len(upper_case_chars)\n",
    "            encrypted += upper_case_chars[index]\n",
    "        elif character in lower_case_chars:\n",
    "            index = (lower_case_chars.index(character) + key) % len(lower_case_chars)\n",
    "            encrypted += lower_case_chars[index]\n",
    "        else:\n",
    "            encrypted += character\n",
    "    return encrypted\n"
   ]
  },
  {
   "cell_type": "code",
   "execution_count": 40,
   "metadata": {},
   "outputs": [
    {
     "name": "stdout",
     "output_type": "stream",
     "text": [
      "MjcjFjab rb Panjc!\n"
     ]
    }
   ],
   "source": [
    "print(encrypt_full(\"DataWars is Great!\", 9))"
   ]
  },
  {
   "cell_type": "code",
   "execution_count": 41,
   "metadata": {},
   "outputs": [],
   "source": [
    "def decrypt_full(text: str, key: int) -> str:\n",
    "    decrypted = \"\"\n",
    "    upper_case_chars = list(string.ascii_uppercase)\n",
    "    lower_case_chars = list(string.ascii_lowercase)\n",
    "    for character in text:\n",
    "        if character in upper_case_chars:\n",
    "            index = (upper_case_chars.index(character) + (key * -1)) % len(upper_case_chars)\n",
    "            decrypted += upper_case_chars[index]\n",
    "        elif character in lower_case_chars:\n",
    "            index = (lower_case_chars.index(character) + (key * -1)) % len(lower_case_chars)\n",
    "            decrypted += lower_case_chars[index]\n",
    "        else:\n",
    "            decrypted += character\n",
    "    return decrypted"
   ]
  },
  {
   "cell_type": "code",
   "execution_count": 42,
   "metadata": {},
   "outputs": [
    {
     "name": "stdout",
     "output_type": "stream",
     "text": [
      "DataWars is Great!\n"
     ]
    }
   ],
   "source": [
    "print(decrypt_full(\"MjcjFjab rb Panjc!\", 9))"
   ]
  },
  {
   "cell_type": "markdown",
   "metadata": {},
   "source": [
    "### 8. Write a code breaker for a simple caesar cipher\n",
    "\n",
    "Now it's time to apply all our previous functions and some algorithmic brain power to break the cipher! This is the ultimate challenge for any criptographer.\n",
    "\n",
    "Implement the function break_cipher that breaks any encrypted message (encrypted_message) by finding a known word (known_word) in it.\n",
    "\n",
    "For simplicity, you can assume the message is ONLY uppercase ascii characters and whitespaces. No symbols or numbers. Example:\n",
    "\n",
    "We can start by encoding a message that we know the shift already:\n",
    "\n",
    ">>> encrypt_full(\"MY FAVORITE WEBSITE IS DATAWARS SO MANY GREAT PROJECTS\", 9)\n",
    "'VH OJEXARCN FNKBRCN RB MJCJFJAB BX VJWH PANJC YAXSNLCB'\n",
    "We know that the encrypted message has (somewhere) the word \"DATAWARS\", so the break_cipher function should work as follows:\n",
    "\n",
    ">>> break_cipher('VH OJEXARCN FNKBRCN RB MJCJFJAB BX VJWH PANJC YAXSNLCB', \"DATAWARS\")\n",
    "'MY FAVORITE WEBSITE IS DATAWARS SO MANY GREAT PROJECTS'\n",
    "Seems like magic! Somehow, our break_cipher function was able to find the known word DATAWARS in the encrypted message and break the code."
   ]
  },
  {
   "cell_type": "code",
   "execution_count": 134,
   "metadata": {},
   "outputs": [],
   "source": [
    "def calculate_letter_hops(word: str) -> list:\n",
    "    upper_case_chars = list(string.ascii_uppercase)\n",
    "    hops = []\n",
    "\n",
    "    for i in range(len(word) - 1):\n",
    "        current_char = word[i].upper()\n",
    "        next_char = word[i + 1].upper()\n",
    "\n",
    "        current_index = upper_case_chars.index(current_char)\n",
    "        next_index = upper_case_chars.index(next_char)\n",
    "\n",
    "        hop = (next_index - current_index) % len(upper_case_chars)\n",
    "        hops.append(hop)\n",
    "\n",
    "    return hops\n"
   ]
  },
  {
   "cell_type": "code",
   "execution_count": 158,
   "metadata": {},
   "outputs": [],
   "source": [
    "def break_cipher(cipher: str, known_word : str):\n",
    "    upper_case_chars = list(string.ascii_uppercase)\n",
    "    known_pattern = calculate_letter_hops(known_word)\n",
    "    ciphered_words = cipher.split()\n",
    "    for ciphered_word in ciphered_words:\n",
    "        if len(ciphered_word) == len(known_word):\n",
    "            ciphered_pattern = calculate_letter_hops(ciphered_word)\n",
    "            if known_pattern == ciphered_pattern:\n",
    "                possible_keys = set()\n",
    "                for i in range(len(known_word) - 1):\n",
    "                    known_index = upper_case_chars.index(known_word[i])\n",
    "                    cipher_index = upper_case_chars.index(ciphered_word[i])\n",
    "                    key = (cipher_index - known_index) % len(upper_case_chars)\n",
    "                    possible_keys.add(key)\n",
    "                # print(f\"{len(possible_keys)} possible keys found: {possible_keys}\")\n",
    "    \n",
    "    result = \"\"\n",
    "    p_keys = list(possible_keys)\n",
    "    if len(p_keys) >= 1:\n",
    "        for i in range(len(p_keys)):\n",
    "            key = p_keys[i]\n",
    "            for ciphered_word in ciphered_words:\n",
    "                result += decrypt_simple(ciphered_word, key) + \" \"\n",
    "            result = result.strip()\n",
    "            print(result)\n",
    "    else:\n",
    "        print(\"No key found to decipher.\")\n",
    "                \n",
    "\n",
    "\n"
   ]
  },
  {
   "cell_type": "code",
   "execution_count": 135,
   "metadata": {},
   "outputs": [
    {
     "data": {
      "text/plain": [
       "[23, 19, 7, 22, 4, 17, 1]"
      ]
     },
     "execution_count": 135,
     "metadata": {},
     "output_type": "execute_result"
    }
   ],
   "source": [
    "calculate_letter_hops(\"DATAWARS\")"
   ]
  },
  {
   "cell_type": "code",
   "execution_count": 157,
   "metadata": {},
   "outputs": [
    {
     "name": "stdout",
     "output_type": "stream",
     "text": [
      "1 possible keys found: {9}\n",
      "MY FAVORITE WEBSITE IS DATAWARS SO MANY GREAT PROJECTS \n"
     ]
    }
   ],
   "source": [
    "break_cipher(\"VH OJEXARCN FNKBRCN RB MJCJFJAB BX VJWH PANJC YAXSNLCB\", \"DATAWARS\")"
   ]
  }
 ],
 "metadata": {
  "kernelspec": {
   "display_name": "Python 3",
   "language": "python",
   "name": "python3"
  },
  "language_info": {
   "codemirror_mode": {
    "name": "ipython",
    "version": 3
   },
   "file_extension": ".py",
   "mimetype": "text/x-python",
   "name": "python",
   "nbconvert_exporter": "python",
   "pygments_lexer": "ipython3",
   "version": "3.11.2"
  }
 },
 "nbformat": 4,
 "nbformat_minor": 2
}
